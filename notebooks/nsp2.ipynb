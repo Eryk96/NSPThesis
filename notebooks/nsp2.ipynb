{
 "cells": [
  {
   "cell_type": "markdown",
   "metadata": {},
   "source": [
    "# Replication of NetSurfP 2.0 with pyTorch"
   ]
  },
  {
   "cell_type": "markdown",
   "metadata": {},
   "source": [
    "The purpose of this notebook is to replicate the current version of NetSurfP 2.0"
   ]
  },
  {
   "cell_type": "markdown",
   "metadata": {},
   "source": [
    "**Load libraries**"
   ]
  },
  {
   "cell_type": "code",
   "execution_count": 1,
   "metadata": {},
   "outputs": [],
   "source": [
    "import numpy as np\n",
    "import torch\n",
    "import torch.nn as nn\n",
    "import torch.nn.functional as F\n",
    "import torch.optim as optim\n",
    "import torchvision\n",
    "\n",
    "from torch.utils.data import Dataset, DataLoader"
   ]
  },
  {
   "cell_type": "markdown",
   "metadata": {},
   "source": [
    "## 1. Preparation of the data"
   ]
  },
  {
   "cell_type": "markdown",
   "metadata": {},
   "source": [
    "**Load datasets**"
   ]
  },
  {
   "cell_type": "code",
   "execution_count": 2,
   "metadata": {},
   "outputs": [],
   "source": [
    "train_hhblits = np.load(\"../data/nsp2/training_data/Train_HHblits.npz\")\n",
    "CB513_hhblits = np.load(\"../data/nsp2/training_data/CB513_HHblits.npz\")\n",
    "TS115_hhblits = np.load(\"../data/nsp2/training_data/TS115_HHblits.npz\")\n",
    "CASP12_hhblits = np.load(\"../data/nsp2/training_data/CASP12_HHblits.npz\")\n",
    "\n",
    "train_mmseqs = np.load(\"../data/nsp2/training_data/Train_MMseqs.npz\")\n",
    "CB513_mmseqs = np.load(\"../data/nsp2/training_data/CB513_MMseqs.npz\")\n",
    "TS115_mmseqs = np.load(\"../data/nsp2/training_data/TS115_MMseqs.npz\")\n",
    "CASP12_mmseqs = np.load(\"../data/nsp2/training_data/CASP12_MMseqs.npz\")"
   ]
  },
  {
   "cell_type": "markdown",
   "metadata": {},
   "source": [
    "**Data loader class**"
   ]
  },
  {
   "cell_type": "code",
   "execution_count": 3,
   "metadata": {},
   "outputs": [],
   "source": [
    "class NSPData(Dataset):\n",
    "    def __init__(self, X, y):\n",
    "        \"\"\"\n",
    "        Args:\n",
    "            X (np.array): The array that contains the training data\n",
    "            y (np.array): The array that contains the test data\n",
    "        \"\"\"\n",
    "        self.data = torch.tensor(X).permute(0,2,1).float()\n",
    "        self.targets = torch.tensor(y).permute(0,2,1).float()\n",
    "\n",
    "    def __getitem__(self, index):\n",
    "        \"\"\" Returns train and test data at an index\n",
    "        Args:\n",
    "            index (int): Index at the array\n",
    "        \"\"\"\n",
    "        return self.data[index], self.targets[index]\n",
    "    \n",
    "    def __len__(self):\n",
    "        \"\"\"Returns the length of the data\"\"\"\n",
    "        return len(self.data)"
   ]
  },
  {
   "cell_type": "markdown",
   "metadata": {},
   "source": [
    "**Instanciate data into the data loader class**"
   ]
  },
  {
   "cell_type": "code",
   "execution_count": 4,
   "metadata": {},
   "outputs": [],
   "source": [
    "batch_size = 15\n",
    "\n",
    "train_hhblits = DataLoader(NSPData(X=train_hhblits['data'][:1000, :1000, :50], \\\n",
    "                                    y=train_hhblits['data'][:1000, :1000, 50:68]), \\\n",
    "                                     batch_size=batch_size)"
   ]
  },
  {
   "cell_type": "markdown",
   "metadata": {},
   "source": [
    "## 2. The NSP Classifier"
   ]
  },
  {
   "cell_type": "code",
   "execution_count": 5,
   "metadata": {},
   "outputs": [],
   "source": [
    "class NSP_Classifier(nn.Module):\n",
    "    def __init__(self, n_init_channels, n_class, n_channels, n_hidden, filter_size=(129, 257)):\n",
    "        \"\"\"\n",
    "        Args:\n",
    "            n_init_channels (int): The size of the incoming feature vector\n",
    "            n_classes (int): The size of the output prediction vector\n",
    "            n_channel: (int) The channel size to use throughout the convolutional network\n",
    "            filter_size (tuple n=2) The filter size of the kernel for each convolutional network\n",
    "            n_hidden: (int) The amount of hidden neurons in the bidirectional lstm\n",
    "        \"\"\"\n",
    "        super(NSP_Classifier, self).__init__()\n",
    "            \n",
    "        self.conv1 = nn.Conv1d(in_channels=n_init_channels, out_channels=n_channels, kernel_size=filter_size[0])\n",
    "        self.conv2 = nn.Conv1d(in_channels=n_init_channels, out_channels=n_channels, kernel_size=filter_size[1])\n",
    "\n",
    "        self.lstm = nn.LSTM(input_size=n_init_channels+n_channels*2, hidden_size=n_hidden, \\\n",
    "                                 num_layers=2, batch_first=True, bidirectional=True)\n",
    "        \n",
    "        # Output layer\n",
    "        self.fc = nn.Linear(in_features=n_hidden*2, out_features=n_class)\n",
    "        \n",
    "    def concatenate_channels(self, x, conv1, conv2):\n",
    "        \"\"\" Concats the output channels of the convolutional networks back to initial channel.\n",
    "        Args:\n",
    "            x (torch.sensor): input data\n",
    "            conv1 (torch.sensor): convolutional 1D output data\n",
    "            conv2 (torch.sensor): convolutional 1D output data \n",
    "        \"\"\"\n",
    "        # Concatenate channels from conv1 and conv2\n",
    "        conv_cat = torch.cat([conv1[:, :, -1], conv2[:, :, -1]],dim=1)\n",
    "        conv_cat = conv_cat.unsqueeze(2).expand(-1, -1, x.shape[2])\n",
    "        \n",
    "        return torch.cat([x, conv_cat], dim=1)\n",
    "        \n",
    "    def forward(self, x):\n",
    "        \"\"\" Forwarding of the classifier input\n",
    "        Args:\n",
    "            x (torch.sensor): input data\n",
    "        \"\"\"\n",
    "        \n",
    "        conv1 = F.relu(self.conv1(x))\n",
    "        conv2 = F.relu(self.conv2(x))\n",
    "        \n",
    "        # Concatenate and permutate for LSTM\n",
    "        x = self.concatenate_channels(x, conv1, conv2)\n",
    "        x = x.permute(0,2,1)\n",
    "        \n",
    "        x, _ = self.lstm(x)\n",
    "        x = self.fc(x)\n",
    "        \n",
    "        return x"
   ]
  },
  {
   "cell_type": "markdown",
   "metadata": {},
   "source": [
    "## 3. Loss function and optimizer"
   ]
  },
  {
   "cell_type": "code",
   "execution_count": 6,
   "metadata": {},
   "outputs": [],
   "source": [
    "nsp_classifier = NSP_Classifier(50, 18, 32, 1024)\n",
    "\n",
    "criterion = nn.CrossEntropyLoss()\n",
    "optimizer = optim.Adam(nsp_classifier.parameters(), lr=0.001,betas=(0.85,0.95),weight_decay=1e-6)"
   ]
  },
  {
   "cell_type": "markdown",
   "metadata": {},
   "source": [
    "## 4. Training"
   ]
  },
  {
   "cell_type": "code",
   "execution_count": null,
   "metadata": {},
   "outputs": [
    {
     "name": "stdout",
     "output_type": "stream",
     "text": [
      "> \u001b[0;32m<ipython-input-7-c52dc79422b2>\u001b[0m(8)\u001b[0;36m<module>\u001b[0;34m()\u001b[0m\n",
      "\u001b[0;32m      6 \u001b[0;31m    \u001b[0mpdb\u001b[0m\u001b[0;34m.\u001b[0m\u001b[0mset_trace\u001b[0m\u001b[0;34m(\u001b[0m\u001b[0;34m)\u001b[0m\u001b[0;34m\u001b[0m\u001b[0;34m\u001b[0m\u001b[0m\n",
      "\u001b[0m\u001b[0;32m      7 \u001b[0;31m\u001b[0;34m\u001b[0m\u001b[0m\n",
      "\u001b[0m\u001b[0;32m----> 8 \u001b[0;31m    \u001b[0;32mfor\u001b[0m \u001b[0mi\u001b[0m\u001b[0;34m,\u001b[0m \u001b[0mdata\u001b[0m \u001b[0;32min\u001b[0m \u001b[0menumerate\u001b[0m\u001b[0;34m(\u001b[0m\u001b[0mtrain_hhblits\u001b[0m\u001b[0;34m,\u001b[0m \u001b[0;36m0\u001b[0m\u001b[0;34m)\u001b[0m\u001b[0;34m:\u001b[0m\u001b[0;34m\u001b[0m\u001b[0;34m\u001b[0m\u001b[0m\n",
      "\u001b[0m\u001b[0;32m      9 \u001b[0;31m        \u001b[0minputs\u001b[0m\u001b[0;34m,\u001b[0m \u001b[0mlabels\u001b[0m \u001b[0;34m=\u001b[0m \u001b[0mdata\u001b[0m\u001b[0;34m\u001b[0m\u001b[0;34m\u001b[0m\u001b[0m\n",
      "\u001b[0m\u001b[0;32m     10 \u001b[0;31m\u001b[0;34m\u001b[0m\u001b[0m\n",
      "\u001b[0m\n"
     ]
    },
    {
     "name": "stdin",
     "output_type": "stream",
     "text": [
      "ipdb>  len(train_hhblits)\n"
     ]
    },
    {
     "name": "stdout",
     "output_type": "stream",
     "text": [
      "67\n",
      "--KeyboardInterrupt--\n",
      "\n",
      "KeyboardInterrupt: Interrupted by user\n"
     ]
    }
   ],
   "source": [
    "for epoch in range(50):  # loop over the dataset multiple times\n",
    "\n",
    "    running_loss = 0.0\n",
    "    \n",
    "    for i, data in enumerate(train_hhblits, 0):\n",
    "        inputs, labels = data\n",
    "        \n",
    "        # Conversion from a vector of predicted probabilities to a class label\n",
    "        labels = torch.argmax(labels, dim=2)\n",
    "\n",
    "        # zero the parameter gradients\n",
    "        optimizer.zero_grad()\n",
    "\n",
    "        # forward + backward + optimize\n",
    "        outputs = nsp_classifier(inputs)\n",
    "        \n",
    "        loss = criterion(outputs, labels)\n",
    "        loss.backward()\n",
    "        optimizer.step()\n",
    "\n",
    "        running_loss += loss.item()\n",
    "\n",
    "        # Check every batch\n",
    "        print(i)\n",
    "        if i % batch_size == 0:\n",
    "            print('[%d, %5d] loss: %.3f' %\n",
    "                  (epoch + 1, i + 1, running_loss / batch_size))\n",
    "            running_loss = 0.0\n",
    "\n",
    "print('Finished Training')"
   ]
  },
  {
   "cell_type": "code",
   "execution_count": null,
   "metadata": {},
   "outputs": [],
   "source": []
  },
  {
   "cell_type": "code",
   "execution_count": null,
   "metadata": {},
   "outputs": [],
   "source": []
  }
 ],
 "metadata": {
  "kernelspec": {
   "display_name": "nsp",
   "language": "python",
   "name": "nsp"
  },
  "language_info": {
   "codemirror_mode": {
    "name": "ipython",
    "version": 3
   },
   "file_extension": ".py",
   "mimetype": "text/x-python",
   "name": "python",
   "nbconvert_exporter": "python",
   "pygments_lexer": "ipython3",
   "version": "3.8.6"
  }
 },
 "nbformat": 4,
 "nbformat_minor": 4
}
