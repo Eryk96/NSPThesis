{
 "cells": [
  {
   "cell_type": "markdown",
   "id": "optical-morocco",
   "metadata": {
    "papermill": {
     "duration": 0.019423,
     "end_time": "2021-03-10T13:16:09.306441",
     "exception": false,
     "start_time": "2021-03-10T13:16:09.287018",
     "status": "completed"
    },
    "tags": []
   },
   "source": [
    "# ESM Embeddings for NetsurfP"
   ]
  },
  {
   "cell_type": "markdown",
   "id": "unsigned-worst",
   "metadata": {
    "papermill": {
     "duration": 0.017115,
     "end_time": "2021-03-10T13:16:09.339349",
     "exception": false,
     "start_time": "2021-03-10T13:16:09.322234",
     "status": "completed"
    },
    "tags": []
   },
   "source": [
    "This notebook will try using embeddings from facebook researchs esm pre-trained model that uses a deep representation of 650M Unirep50 sequences.\n",
    "\n",
    "https://github.com/facebookresearch/esm"
   ]
  },
  {
   "cell_type": "markdown",
   "id": "heated-router",
   "metadata": {
    "papermill": {
     "duration": 0.019005,
     "end_time": "2021-03-10T13:16:09.372177",
     "exception": false,
     "start_time": "2021-03-10T13:16:09.353172",
     "status": "completed"
    },
    "tags": []
   },
   "source": [
    "## Libraries and pre-trained model"
   ]
  },
  {
   "cell_type": "markdown",
   "id": "least-philippines",
   "metadata": {
    "papermill": {
     "duration": 0.016111,
     "end_time": "2021-03-10T13:16:09.401278",
     "exception": false,
     "start_time": "2021-03-10T13:16:09.385167",
     "status": "completed"
    },
    "tags": []
   },
   "source": [
    "**Download pretrained model** "
   ]
  },
  {
   "cell_type": "markdown",
   "id": "leading-consortium",
   "metadata": {
    "papermill": {
     "duration": 0.014661,
     "end_time": "2021-03-10T13:16:09.431681",
     "exception": false,
     "start_time": "2021-03-10T13:16:09.417020",
     "status": "completed"
    },
    "tags": []
   },
   "source": [
    "**Load libraries**"
   ]
  },
  {
   "cell_type": "code",
   "execution_count": 1,
   "id": "spatial-dragon",
   "metadata": {
    "execution": {
     "iopub.execute_input": "2021-03-10T13:16:09.463523Z",
     "iopub.status.busy": "2021-03-10T13:16:09.463115Z",
     "iopub.status.idle": "2021-03-10T13:16:10.266114Z",
     "shell.execute_reply": "2021-03-10T13:16:10.266454Z"
    },
    "papermill": {
     "duration": 0.820044,
     "end_time": "2021-03-10T13:16:10.266593",
     "exception": false,
     "start_time": "2021-03-10T13:16:09.446549",
     "status": "completed"
    },
    "tags": []
   },
   "outputs": [],
   "source": [
    "import torch\n",
    "import math\n",
    "import esm\n",
    "import numpy as np\n",
    "import pdb\n",
    "\n",
    "#pip install https://github.com/facebookresearch/esm"
   ]
  },
  {
   "cell_type": "markdown",
   "id": "illegal-anthropology",
   "metadata": {
    "papermill": {
     "duration": 0.012458,
     "end_time": "2021-03-10T13:16:10.291822",
     "exception": false,
     "start_time": "2021-03-10T13:16:10.279364",
     "status": "completed"
    },
    "tags": []
   },
   "source": [
    "## Data"
   ]
  },
  {
   "cell_type": "markdown",
   "id": "photographic-movie",
   "metadata": {
    "papermill": {
     "duration": 0.013763,
     "end_time": "2021-03-10T13:16:10.320692",
     "exception": false,
     "start_time": "2021-03-10T13:16:10.306929",
     "status": "completed"
    },
    "tags": []
   },
   "source": [
    "The data is loaded and converted back to aminoacids for the embedding"
   ]
  },
  {
   "cell_type": "code",
   "execution_count": 2,
   "id": "determined-state",
   "metadata": {
    "execution": {
     "iopub.execute_input": "2021-03-10T13:16:10.358940Z",
     "iopub.status.busy": "2021-03-10T13:16:10.358548Z",
     "iopub.status.idle": "2021-03-10T13:16:10.392279Z",
     "shell.execute_reply": "2021-03-10T13:16:10.392588Z"
    },
    "papermill": {
     "duration": 0.050622,
     "end_time": "2021-03-10T13:16:10.392679",
     "exception": false,
     "start_time": "2021-03-10T13:16:10.342057",
     "status": "completed"
    },
    "tags": [
     "parameters"
    ]
   },
   "outputs": [],
   "source": [
    "data_dir = \"../../data/nsp2/training_data/\"\n",
    "\n",
    "datasets = [\n",
    "    (\"train_hhblits\", np.load(data_dir + \"Train_HHblits_small.npz\")),\n",
    "    #(\"CB513_hhblits\", np.load(dir_path + \"CB513_HHblits.npz\")),\n",
    "    #(\"TS115_hhblits\", np.load(dir_path + \"TS115_HHblits.npz\")),\n",
    "    (\"CASP12_HHblits\", np.load(data_dir + \"CASP12_HHblits.npz\")),\n",
    "    \n",
    "    #(\"Train_MMseqs\", np.load(dir_path + \"Train_MMseqs.npz\")),\n",
    "    #(\"CB513_MMseqs\", np.load(dir_path + \"CB513_MMseqs.npz\")),\n",
    "    #(\"TS115_MMseqs\", np.load(dir_path + \"TS115_MMseqs.npz\")),\n",
    "    #(\"CASP12_MMseqs\", np.load(dir_path + \"CASP12_MMseqs.npz\")),\n",
    "]"
   ]
  },
  {
   "cell_type": "markdown",
   "id": "twenty-routine",
   "metadata": {
    "papermill": {
     "duration": 0.020861,
     "end_time": "2021-03-10T13:16:10.465608",
     "exception": false,
     "start_time": "2021-03-10T13:16:10.444747",
     "status": "completed"
    },
    "tags": []
   },
   "source": [
    "A function converts sparse encoding back to amino acid sequence."
   ]
  },
  {
   "cell_type": "code",
   "execution_count": 4,
   "id": "surprised-energy",
   "metadata": {
    "execution": {
     "iopub.execute_input": "2021-03-10T13:16:10.500387Z",
     "iopub.status.busy": "2021-03-10T13:16:10.500002Z",
     "iopub.status.idle": "2021-03-10T13:16:10.501887Z",
     "shell.execute_reply": "2021-03-10T13:16:10.501577Z"
    },
    "papermill": {
     "duration": 0.02311,
     "end_time": "2021-03-10T13:16:10.501969",
     "exception": false,
     "start_time": "2021-03-10T13:16:10.478859",
     "status": "completed"
    },
    "tags": []
   },
   "outputs": [],
   "source": [
    "def sparse_to_sequence(dataset):\n",
    "    data = []\n",
    "\n",
    "    aa_decode = np.array([\"N\",\"A\",\"C\",\"D\",\"E\",\"F\",\"G\",\"H\",\"I\",\"K\",\"L\",\"M\",\"N\",\"P\",\"Q\",\"R\",\"S\",\"T\",\"V\",\"W\",\"Y\"])\n",
    "\n",
    "    # get the amino acid encoding and apply decode mask\n",
    "    for seq_id in range(dataset.shape[0]):\n",
    "        seq_mask = dataset[seq_id, dataset[seq_id, :, 50] == 1, :20]\n",
    "        aa_idx = np.argmax(seq_mask, axis=1)\n",
    "\n",
    "        aa_sequence = str()\n",
    "        for idx in aa_idx:\n",
    "            aa_sequence += aa_decode[idx]\n",
    "\n",
    "        # store decoded sequence\n",
    "        data.append((\"protein\" + str(seq_id), aa_sequence))\n",
    "    \n",
    "    # remove later\n",
    "    data.append((\"protein_x\", \"N\"*1632))\n",
    "        \n",
    "    return data"
   ]
  },
  {
   "cell_type": "markdown",
   "id": "healthy-heating",
   "metadata": {
    "papermill": {
     "duration": 0.016772,
     "end_time": "2021-03-10T13:16:10.534570",
     "exception": false,
     "start_time": "2021-03-10T13:16:10.517798",
     "status": "completed"
    },
    "tags": []
   },
   "source": [
    "Display first sequence to check conversion"
   ]
  },
  {
   "cell_type": "code",
   "execution_count": 5,
   "id": "emotional-grant",
   "metadata": {
    "execution": {
     "iopub.execute_input": "2021-03-10T13:16:10.568304Z",
     "iopub.status.busy": "2021-03-10T13:16:10.567930Z",
     "iopub.status.idle": "2021-03-10T13:16:12.869006Z",
     "shell.execute_reply": "2021-03-10T13:16:12.869348Z"
    },
    "papermill": {
     "duration": 2.319633,
     "end_time": "2021-03-10T13:16:12.869466",
     "exception": false,
     "start_time": "2021-03-10T13:16:10.549833",
     "status": "completed"
    },
    "tags": []
   },
   "outputs": [
    {
     "data": {
      "text/plain": [
       "('protein0',\n",
       " 'LISNWHNIPQPHRETIRGERQPKDDQKFKHDTPNNHKRQTFCFSPCMKRFNDINTPTITINKNCNPEDTTGRKNIVIQPSKFPGCERNFDFKWSGLINKQNCDCQKRNKGRTWTCPVCVDQTLFCFDQPERSKIRSTDNHVNFHINSDNNTRDDEFKNNEKNCPHGETGRPDKKRQWNCKCNIFQDQNHNICKFNTEKTFHFFIKRCFGQGCTQNNCWCCVRSNRDKFGNFKMFCHKTVMNTKDCNEDKRRLFHQTCNCSKIGPKNKSFCDCQKDKDVGPNKKQFDLNPSHFFFHFPRQKSLKKKPKNGHFPTPNFTVNNNTQDRTNRKK')"
      ]
     },
     "execution_count": 5,
     "metadata": {},
     "output_type": "execute_result"
    }
   ],
   "source": [
    "sparse_to_sequence(datasets[0][1]['data'])[0]"
   ]
  },
  {
   "cell_type": "markdown",
   "id": "automatic-great",
   "metadata": {
    "papermill": {
     "duration": 0.01707,
     "end_time": "2021-03-10T13:16:12.902908",
     "exception": false,
     "start_time": "2021-03-10T13:16:12.885838",
     "status": "completed"
    },
    "tags": []
   },
   "source": [
    "## ESM1b Embedding"
   ]
  },
  {
   "cell_type": "markdown",
   "id": "champion-burner",
   "metadata": {
    "papermill": {
     "duration": 0.017641,
     "end_time": "2021-03-10T13:16:12.939954",
     "exception": false,
     "start_time": "2021-03-10T13:16:12.922313",
     "status": "completed"
    },
    "tags": []
   },
   "source": [
    "The pre-trained model is instantiated with the batch converter that converts the sequences to batch tokens."
   ]
  },
  {
   "cell_type": "code",
   "execution_count": 6,
   "id": "figured-saskatchewan",
   "metadata": {
    "execution": {
     "iopub.execute_input": "2021-03-10T13:16:12.970918Z",
     "iopub.status.busy": "2021-03-10T13:16:12.970521Z",
     "iopub.status.idle": "2021-03-10T13:16:49.075509Z",
     "shell.execute_reply": "2021-03-10T13:16:49.075821Z"
    },
    "papermill": {
     "duration": 36.122254,
     "end_time": "2021-03-10T13:16:49.075937",
     "exception": false,
     "start_time": "2021-03-10T13:16:12.953683",
     "status": "completed"
    },
    "tags": [
     "parameters"
    ]
   },
   "outputs": [
    {
     "name": "stderr",
     "output_type": "stream",
     "text": [
      "/home/people/erikie/.local/lib/python3.6/site-packages/esm/pretrained.py:112: UserWarning: Regression weights not found, predicting contacts will not produce correct results.\n",
      "  warnings.warn(\"Regression weights not found, predicting contacts will not produce correct results.\")\n"
     ]
    }
   ],
   "source": [
    "# load 34 layer model\n",
    "model_path = \"../../models/esm1b_t33_650M_UR50S.pt\"\n",
    "\n",
    "model, alphabet = esm.pretrained.load_model_and_alphabet_local(model_path)\n",
    "batch_converter = alphabet.get_batch_converter()"
   ]
  },
  {
   "cell_type": "code",
   "execution_count": 7,
   "id": "bibliographic-insured",
   "metadata": {
    "execution": {
     "iopub.execute_input": "2021-03-10T13:16:49.247396Z",
     "iopub.status.busy": "2021-03-10T13:16:49.246974Z",
     "iopub.status.idle": "2021-03-10T13:16:49.255969Z",
     "shell.execute_reply": "2021-03-10T13:16:49.256285Z"
    },
    "papermill": {
     "duration": 0.164477,
     "end_time": "2021-03-10T13:16:49.256391",
     "exception": false,
     "start_time": "2021-03-10T13:16:49.091914",
     "status": "completed"
    },
    "tags": []
   },
   "outputs": [],
   "source": [
    "device = torch.device('cuda:0' if torch.cuda.is_available() else 'cpu')\n",
    "\n",
    "# Try to move model to GPU if possible\n",
    "try:\n",
    "    model = model.to(device)\n",
    "except RuntimeError:\n",
    "    device = 'cpu'\n",
    "    model = model.to(device)\n",
    "    \n",
    "model = model.eval()"
   ]
  },
  {
   "cell_type": "markdown",
   "id": "collaborative-banking",
   "metadata": {
    "papermill": {
     "duration": 0.021741,
     "end_time": "2021-03-10T13:16:49.292258",
     "exception": false,
     "start_time": "2021-03-10T13:16:49.270517",
     "status": "completed"
    },
    "tags": []
   },
   "source": [
    "Convert the sequences to batch tokens then to token embeddings: https://github.com/facebookresearch/esm/issues/21\n",
    "\n",
    "Since the pretrained models only is able todo embeddings with max 1024 residues, then an overlap method is implemented to concatenate the longer sequences. Thus, if a sequence is larger than 1024 residues, then the next iter of residues are concatenated by overlapping X residues which then takes X/2 from both of the concatenating sequences."
   ]
  },
  {
   "cell_type": "code",
   "execution_count": 8,
   "id": "dense-method",
   "metadata": {
    "execution": {
     "iopub.execute_input": "2021-03-10T13:16:49.333099Z",
     "iopub.status.busy": "2021-03-10T13:16:49.332695Z",
     "iopub.status.idle": "2021-03-10T13:16:49.334545Z",
     "shell.execute_reply": "2021-03-10T13:16:49.334204Z"
    },
    "papermill": {
     "duration": 0.023972,
     "end_time": "2021-03-10T13:16:49.334626",
     "exception": false,
     "start_time": "2021-03-10T13:16:49.310654",
     "status": "completed"
    },
    "tags": []
   },
   "outputs": [],
   "source": [
    "def overlap_method(data, max_embedding = 1024, offset = 200, batches = 30):\n",
    "    # prepare data\n",
    "    batch_labels, batch_strs, batch_tokens = batch_converter(data)\n",
    "\n",
    "    # calculate how many iterations for the overlaps\n",
    "    sequence_iter = math.floor(batch_tokens.shape[1]/max_embedding)\n",
    "    sequence_iter = math.floor((max_embedding*(sequence_iter+1)+offset*sequence_iter)/max_embedding)\n",
    "    \n",
    "    # extract sequences in batches to avoid RAM issues\n",
    "    result = torch.tensor([])\n",
    "    \n",
    "    for batch in range(0, batch_tokens.shape[0], batches):\n",
    "        # extract per-residue embeddings (on CPU)\n",
    "        batch_result = None\n",
    "        for i in range(sequence_iter):\n",
    "            embedding = None\n",
    "            with torch.no_grad():\n",
    "                if i == 0:\n",
    "                    # no overlap on first iter\n",
    "                    tmp_embedding = batch_tokens[batch:batch+batches, i:max_embedding+i]\n",
    "                    embedding = model(tmp_embedding.to(device), repr_layers=[33])[\"representations\"][33].cpu()\n",
    "                else:\n",
    "                    tmp_embedding = batch_tokens[batch:batch+batches, (max_embedding*i-offset*i):(max_embedding*(i+1)-offset*i)]\n",
    "                    embedding = model(tmp_embedding.to(device), repr_layers=[33])[\"representations\"][33].cpu()\n",
    "                    \n",
    "                    # concatenate by overlap for > max_embedding sequences\n",
    "                    overlap = int(offset/2)\n",
    "                    embedding = torch.cat([batch_result[:, :-overlap, :], embedding[:, overlap:, :]], dim=1)\n",
    "                    \n",
    "                batch_result = embedding\n",
    "            \n",
    "        # concatenate finished sequences\n",
    "        result = torch.cat([result, batch_result], dim=0)\n",
    "            \n",
    "        print(\"Finished embedding batch {} of {}\".format(batch+batches, batch_tokens.shape[0]))\n",
    "\n",
    "    # add extrapolated zeros\n",
    "    for idx_seq in range(len(batch_strs)):\n",
    "        result[idx_seq, len(batch_strs[idx_seq]):, :] = 0\n",
    "        \n",
    "    return result"
   ]
  },
  {
   "cell_type": "markdown",
   "id": "furnished-charger",
   "metadata": {
    "papermill": {
     "duration": 0.015453,
     "end_time": "2021-03-10T13:16:49.366518",
     "exception": false,
     "start_time": "2021-03-10T13:16:49.351065",
     "status": "completed"
    },
    "tags": []
   },
   "source": [
    "**Save embeddings**"
   ]
  },
  {
   "cell_type": "markdown",
   "id": "appropriate-clerk",
   "metadata": {
    "papermill": {
     "duration": 0.014846,
     "end_time": "2021-03-10T13:16:49.398265",
     "exception": false,
     "start_time": "2021-03-10T13:16:49.383419",
     "status": "completed"
    },
    "tags": []
   },
   "source": [
    "The embeddings are merged with the labels from the original datasets"
   ]
  },
  {
   "cell_type": "code",
   "execution_count": 9,
   "id": "fleet-harrison",
   "metadata": {
    "execution": {
     "iopub.execute_input": "2021-03-10T13:16:49.433113Z",
     "iopub.status.busy": "2021-03-10T13:16:49.432718Z",
     "iopub.status.idle": "2021-03-10T13:16:49.435151Z",
     "shell.execute_reply": "2021-03-10T13:16:49.435476Z"
    },
    "papermill": {
     "duration": 0.02177,
     "end_time": "2021-03-10T13:16:49.435571",
     "exception": false,
     "start_time": "2021-03-10T13:16:49.413801",
     "status": "completed"
    },
    "tags": []
   },
   "outputs": [],
   "source": [
    "def add_embedding(name, dataset):\n",
    "    # create embedding\n",
    "    result = overlap_method(sparse_to_sequence(dataset['data']))\n",
    "    \n",
    "    dataset = torch.tensor(dataset['data'])\n",
    "    \n",
    "    #remove start and end token\n",
    "    result = result[:-1, 1:result.shape[1]-1, :]\n",
    "    \n",
    "    #merge labels from original dataset and save\n",
    "    result = torch.cat([dataset, result], dim=2).numpy()\n",
    "    np.savez_compressed(data_dir.replace(\"nsp2\", \"nsp3\") + \"esm1b_\" + name + \".npz\", data=result)\n",
    "    \n",
    "    print(name + \" saved\")"
   ]
  },
  {
   "cell_type": "markdown",
   "id": "worst-marijuana",
   "metadata": {
    "papermill": {
     "duration": 0.021789,
     "end_time": "2021-03-10T13:16:49.471605",
     "exception": false,
     "start_time": "2021-03-10T13:16:49.449816",
     "status": "completed"
    },
    "tags": []
   },
   "source": [
    "**Add embeddings to datasets and save to file**"
   ]
  },
  {
   "cell_type": "code",
   "execution_count": null,
   "id": "accepting-mechanics",
   "metadata": {
    "papermill": {
     "duration": 6970.30493,
     "end_time": "2021-03-10T15:12:59.794866",
     "exception": true,
     "start_time": "2021-03-10T13:16:49.489936",
     "status": "failed"
    },
    "tags": []
   },
   "outputs": [],
   "source": [
    "for name, data in datasets:\n",
    "    add_embedding(name, data)"
   ]
  }
 ],
 "metadata": {
  "kernelspec": {
   "display_name": "Python 3",
   "language": "python",
   "name": "python3"
  },
  "language_info": {
   "codemirror_mode": {
    "name": "ipython",
    "version": 3
   },
   "file_extension": ".py",
   "mimetype": "text/x-python",
   "name": "python",
   "nbconvert_exporter": "python",
   "pygments_lexer": "ipython3",
   "version": "3.8.5"
  },
  "papermill": {
   "default_parameters": {},
   "duration": 7013.539036,
   "end_time": "2021-03-10T15:13:01.225213",
   "environment_variables": {},
   "exception": true,
   "input_path": "embeddings_esm.ipynb",
   "output_path": "embeddings_esm.ipynb",
   "parameters": {
    "data_dir": "/home/projects/ht3_aim/people/erikie/NSPThesis/data/nsp2/training_data",
    "model_path": "/home/projects/ht3_aim/people/erikie/NSPThesis/models/esm1b_t33_650M_UR50S.pt"
   },
   "start_time": "2021-03-10T13:16:07.686177",
   "version": "2.3.2"
  }
 },
 "nbformat": 4,
 "nbformat_minor": 5
}