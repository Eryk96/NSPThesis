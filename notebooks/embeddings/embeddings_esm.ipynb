{
 "cells": [
  {
   "cell_type": "markdown",
   "id": "sized-parameter",
   "metadata": {
    "papermill": {
     "duration": 0.015883,
     "end_time": "2021-02-25T16:31:25.841582",
     "exception": false,
     "start_time": "2021-02-25T16:31:25.825699",
     "status": "completed"
    },
    "tags": []
   },
   "source": [
    "# ESM Embeddings for NetsurfP"
   ]
  },
  {
   "cell_type": "markdown",
   "id": "amateur-egyptian",
   "metadata": {
    "papermill": {
     "duration": 0.011868,
     "end_time": "2021-02-25T16:31:25.866318",
     "exception": false,
     "start_time": "2021-02-25T16:31:25.854450",
     "status": "completed"
    },
    "tags": []
   },
   "source": [
    "This notebook will try using embeddings from facebook researchs esm pre-trained model that uses a deep representation of 650M Unirep50 sequences.\n",
    "\n",
    "https://github.com/facebookresearch/esm"
   ]
  },
  {
   "cell_type": "markdown",
   "id": "trying-discussion",
   "metadata": {
    "papermill": {
     "duration": 0.012656,
     "end_time": "2021-02-25T16:31:25.890886",
     "exception": false,
     "start_time": "2021-02-25T16:31:25.878230",
     "status": "completed"
    },
    "tags": []
   },
   "source": [
    "## Libraries and pre-trained model"
   ]
  },
  {
   "cell_type": "markdown",
   "id": "declared-liverpool",
   "metadata": {
    "papermill": {
     "duration": 0.245071,
     "end_time": "2021-02-25T16:31:26.148073",
     "exception": false,
     "start_time": "2021-02-25T16:31:25.903002",
     "status": "completed"
    },
    "tags": []
   },
   "source": [
    "**Download pretrained model** "
   ]
  },
  {
   "cell_type": "markdown",
   "id": "military-newsletter",
   "metadata": {
    "papermill": {
     "duration": 0.01357,
     "end_time": "2021-02-25T16:31:26.175001",
     "exception": false,
     "start_time": "2021-02-25T16:31:26.161431",
     "status": "completed"
    },
    "tags": []
   },
   "source": [
    "**Load libraries**"
   ]
  },
  {
   "cell_type": "code",
   "execution_count": 1,
   "id": "serious-yugoslavia",
   "metadata": {
    "execution": {
     "iopub.execute_input": "2021-02-25T16:31:26.203876Z",
     "iopub.status.busy": "2021-02-25T16:31:26.203480Z",
     "iopub.status.idle": "2021-02-25T16:31:27.839399Z",
     "shell.execute_reply": "2021-02-25T16:31:27.839789Z"
    },
    "papermill": {
     "duration": 1.651945,
     "end_time": "2021-02-25T16:31:27.839928",
     "exception": false,
     "start_time": "2021-02-25T16:31:26.187983",
     "status": "completed"
    },
    "tags": []
   },
   "outputs": [],
   "source": [
    "import torch\n",
    "import math\n",
    "import esm\n",
    "import numpy as np\n",
    "import pdb\n",
    "\n",
    "#pip install https://github.com/facebookresearch/esm"
   ]
  },
  {
   "cell_type": "markdown",
   "id": "executive-allergy",
   "metadata": {
    "papermill": {
     "duration": 0.012605,
     "end_time": "2021-02-25T16:31:27.866811",
     "exception": false,
     "start_time": "2021-02-25T16:31:27.854206",
     "status": "completed"
    },
    "tags": []
   },
   "source": [
    "## Data"
   ]
  },
  {
   "cell_type": "markdown",
   "id": "liable-cooperation",
   "metadata": {
    "papermill": {
     "duration": 0.012364,
     "end_time": "2021-02-25T16:31:27.891854",
     "exception": false,
     "start_time": "2021-02-25T16:31:27.879490",
     "status": "completed"
    },
    "tags": []
   },
   "source": [
    "The data is loaded and converted back to aminoacids for the embedding"
   ]
  },
  {
   "cell_type": "code",
   "execution_count": 2,
   "id": "continent-shareware",
   "metadata": {
    "execution": {
     "iopub.execute_input": "2021-02-25T16:31:27.922101Z",
     "iopub.status.busy": "2021-02-25T16:31:27.921688Z",
     "iopub.status.idle": "2021-02-25T16:31:27.978634Z",
     "shell.execute_reply": "2021-02-25T16:31:27.978212Z"
    },
    "papermill": {
     "duration": 0.074573,
     "end_time": "2021-02-25T16:31:27.978739",
     "exception": false,
     "start_time": "2021-02-25T16:31:27.904166",
     "status": "completed"
    },
    "tags": []
   },
   "outputs": [],
   "source": [
    "dir_path = \"/home/projects/ht3_aim/people/erikie/nsp/data/nsp2/training_data/\"\n",
    "\n",
    "datasets = [\n",
    "    (\"train_hhblits\", np.load(dir_path + \"Train_HHblits.npz\")),\n",
    "    (\"CB513_hhblits\", np.load(dir_path + \"CB513_HHblits.npz\")),\n",
    "    (\"TS115_hhblits\", np.load(dir_path + \"TS115_HHblits.npz\")),\n",
    "    (\"CASP12_HHblits\", np.load(dir_path + \"CASP12_HHblits.npz\")),\n",
    "    \n",
    "    (\"Train_MMseqs\", np.load(dir_path + \"Train_MMseqs.npz\")),\n",
    "    (\"CB513_MMseqs\", np.load(dir_path + \"CB513_MMseqs.npz\")),\n",
    "    (\"TS115_MMseqs\", np.load(dir_path + \"TS115_MMseqs.npz\")),\n",
    "    (\"CASP12_MMseqs\", np.load(dir_path + \"CASP12_MMseqs.npz\")),\n",
    "]"
   ]
  },
  {
   "cell_type": "markdown",
   "id": "biological-compensation",
   "metadata": {
    "papermill": {
     "duration": 0.01328,
     "end_time": "2021-02-25T16:31:28.006198",
     "exception": false,
     "start_time": "2021-02-25T16:31:27.992918",
     "status": "completed"
    },
    "tags": []
   },
   "source": [
    "A function converts sparse encoding back to amino acid sequence."
   ]
  },
  {
   "cell_type": "code",
   "execution_count": 3,
   "id": "improved-composition",
   "metadata": {
    "execution": {
     "iopub.execute_input": "2021-02-25T16:31:28.037575Z",
     "iopub.status.busy": "2021-02-25T16:31:28.037100Z",
     "iopub.status.idle": "2021-02-25T16:31:28.038904Z",
     "shell.execute_reply": "2021-02-25T16:31:28.038534Z"
    },
    "papermill": {
     "duration": 0.019791,
     "end_time": "2021-02-25T16:31:28.038988",
     "exception": false,
     "start_time": "2021-02-25T16:31:28.019197",
     "status": "completed"
    },
    "tags": []
   },
   "outputs": [],
   "source": [
    "def sparse_to_sequence(dataset):\n",
    "    data = []\n",
    "\n",
    "    aa_decode = np.array([\"N\",\"A\",\"C\",\"D\",\"E\",\"F\",\"G\",\"H\",\"I\",\"K\",\"L\",\"M\",\"N\",\"P\",\"Q\",\"R\",\"S\",\"T\",\"V\",\"W\",\"Y\"])\n",
    "\n",
    "    dataset = dataset['data']\n",
    "    # get the amino acid encoding and apply decode mask\n",
    "    for seq_id in range(dataset.shape[0]):\n",
    "        seq_mask = dataset[seq_id, dataset[seq_id, :, 50] == 1, :20]\n",
    "        aa_idx = np.argmax(seq_mask, axis=1)\n",
    "\n",
    "        aa_sequence = str()\n",
    "        for idx in aa_idx:\n",
    "            aa_sequence += aa_decode[idx]\n",
    "\n",
    "        # store decoded sequence\n",
    "        data.append((\"protein\" + str(seq_id), aa_sequence))\n",
    "        \n",
    "    return data"
   ]
  },
  {
   "cell_type": "markdown",
   "id": "growing-chorus",
   "metadata": {
    "papermill": {
     "duration": 0.013172,
     "end_time": "2021-02-25T16:31:28.065430",
     "exception": false,
     "start_time": "2021-02-25T16:31:28.052258",
     "status": "completed"
    },
    "tags": []
   },
   "source": [
    "Display first sequence to check conversion"
   ]
  },
  {
   "cell_type": "code",
   "execution_count": 4,
   "id": "subtle-sperm",
   "metadata": {
    "execution": {
     "iopub.execute_input": "2021-02-25T16:31:28.095217Z",
     "iopub.status.busy": "2021-02-25T16:31:28.094761Z",
     "iopub.status.idle": "2021-02-25T16:31:56.340268Z",
     "shell.execute_reply": "2021-02-25T16:31:56.340594Z"
    },
    "papermill": {
     "duration": 28.261775,
     "end_time": "2021-02-25T16:31:56.340708",
     "exception": false,
     "start_time": "2021-02-25T16:31:28.078933",
     "status": "completed"
    },
    "tags": []
   },
   "outputs": [
    {
     "data": {
      "text/plain": [
       "('protein0',\n",
       " 'LISNWHNIPQPHRETIRGERQPKDDQKFKHDTPNNHKRQTFCFSPCMKRFNDINTPTITINKNCNPEDTTGRKNIVIQPSKFPGCERNFDFKWSGLINKQNCDCQKRNKGRTWTCPVCVDQTLFCFDQPERSKIRSTDNHVNFHINSDNNTRDDEFKNNEKNCPHGETGRPDKKRQWNCKCNIFQDQNHNICKFNTEKTFHFFIKRCFGQGCTQNNCWCCVRSNRDKFGNFKMFCHKTVMNTKDCNEDKRRLFHQTCNCSKIGPKNKSFCDCQKDKDVGPNKKQFDLNPSHFFFHFPRQKSLKKKPKNGHFPTPNFTVNNNTQDRTNRKK')"
      ]
     },
     "execution_count": 4,
     "metadata": {},
     "output_type": "execute_result"
    }
   ],
   "source": [
    "sparse_to_sequence(datasets[0][1])[0]"
   ]
  },
  {
   "cell_type": "markdown",
   "id": "pressed-nirvana",
   "metadata": {
    "papermill": {
     "duration": 0.012679,
     "end_time": "2021-02-25T16:31:56.367347",
     "exception": false,
     "start_time": "2021-02-25T16:31:56.354668",
     "status": "completed"
    },
    "tags": []
   },
   "source": [
    "## ESM1b Embedding"
   ]
  },
  {
   "cell_type": "markdown",
   "id": "steady-intake",
   "metadata": {
    "papermill": {
     "duration": 0.012496,
     "end_time": "2021-02-25T16:31:56.392386",
     "exception": false,
     "start_time": "2021-02-25T16:31:56.379890",
     "status": "completed"
    },
    "tags": []
   },
   "source": [
    "The pre-trained model is instantiated with the batch converter that converts the sequences to batch tokens."
   ]
  },
  {
   "cell_type": "code",
   "execution_count": 5,
   "id": "hindu-bishop",
   "metadata": {
    "execution": {
     "iopub.execute_input": "2021-02-25T16:31:56.420541Z",
     "iopub.status.busy": "2021-02-25T16:31:56.420150Z",
     "iopub.status.idle": "2021-02-25T16:32:25.358130Z",
     "shell.execute_reply": "2021-02-25T16:32:25.357781Z"
    },
    "papermill": {
     "duration": 28.953351,
     "end_time": "2021-02-25T16:32:25.358227",
     "exception": false,
     "start_time": "2021-02-25T16:31:56.404876",
     "status": "completed"
    },
    "tags": []
   },
   "outputs": [
    {
     "name": "stderr",
     "output_type": "stream",
     "text": [
      "/home/people/erikie/.local/lib/python3.6/site-packages/esm/pretrained.py:112: UserWarning: Regression weights not found, predicting contacts will not produce correct results.\n",
      "  warnings.warn(\"Regression weights not found, predicting contacts will not produce correct results.\")\n"
     ]
    }
   ],
   "source": [
    "# load 34 layer model\n",
    "model, alphabet = esm.pretrained.load_model_and_alphabet_local(\"/home/projects/ht3_aim/people/erikie/nsp/models/esm1b_t33_650M_UR50S.pt\")\n",
    "batch_converter = alphabet.get_batch_converter()"
   ]
  },
  {
   "cell_type": "code",
   "execution_count": 6,
   "id": "talented-characteristic",
   "metadata": {
    "execution": {
     "iopub.execute_input": "2021-02-25T16:32:25.439470Z",
     "iopub.status.busy": "2021-02-25T16:32:25.439032Z",
     "iopub.status.idle": "2021-02-25T16:32:25.449196Z",
     "shell.execute_reply": "2021-02-25T16:32:25.449502Z"
    },
    "papermill": {
     "duration": 0.076666,
     "end_time": "2021-02-25T16:32:25.449614",
     "exception": false,
     "start_time": "2021-02-25T16:32:25.372948",
     "status": "completed"
    },
    "tags": []
   },
   "outputs": [],
   "source": [
    "device = torch.device('cuda:0' if torch.cuda.is_available() else 'cpu')\n",
    "\n",
    "# Try to move model to GPU if possible\n",
    "try:\n",
    "    model = model.to(device)\n",
    "except RuntimeError:\n",
    "    device = 'cpu'\n",
    "    model = model.to(device)\n",
    "    \n",
    "model = model.eval()"
   ]
  },
  {
   "cell_type": "markdown",
   "id": "complete-triangle",
   "metadata": {
    "papermill": {
     "duration": 0.014295,
     "end_time": "2021-02-25T16:32:25.479148",
     "exception": false,
     "start_time": "2021-02-25T16:32:25.464853",
     "status": "completed"
    },
    "tags": []
   },
   "source": [
    "Convert the sequences to batch tokens then to token embeddings: https://github.com/facebookresearch/esm/issues/21\n",
    "\n",
    "Since the pretrained models only is able todo embeddings with max 1024 residues, then an overlap method is implemented to concatenate the longer sequences. Thus, if a sequence is larger than 1024 residues, then the next iter of residues are concatenated by overlapping X residues which then takes X/2 from both of the concatenating sequences."
   ]
  },
  {
   "cell_type": "code",
   "execution_count": 7,
   "id": "referenced-sociology",
   "metadata": {
    "execution": {
     "iopub.execute_input": "2021-02-25T16:32:25.514632Z",
     "iopub.status.busy": "2021-02-25T16:32:25.514232Z",
     "iopub.status.idle": "2021-02-25T16:32:25.515742Z",
     "shell.execute_reply": "2021-02-25T16:32:25.516056Z"
    },
    "papermill": {
     "duration": 0.0235,
     "end_time": "2021-02-25T16:32:25.516148",
     "exception": false,
     "start_time": "2021-02-25T16:32:25.492648",
     "status": "completed"
    },
    "tags": []
   },
   "outputs": [],
   "source": [
    "def overlap_method(data, max_embedding = 1024, offset = 200, batches = 15):\n",
    "    # prepare data\n",
    "    batch_labels, batch_strs, batch_tokens = batch_converter(data)\n",
    "\n",
    "    # calculate how many iterations for the overlaps\n",
    "    sequence_iter = math.floor(batch_tokens.shape[1]/max_embedding)\n",
    "    sequence_iter = math.floor((max_embedding*(sequence_iter+1)+offset*sequence_iter)/max_embedding)\n",
    "    \n",
    "    # extract sequences in batches to avoid RAM issues\n",
    "    result = torch.tensor([])\n",
    "    \n",
    "    for batch in range(0, batch_tokens.shape[0], batches):\n",
    "        # extract per-residue embeddings (on CPU)\n",
    "        batch_result = None\n",
    "        for i in range(sequence_iter):\n",
    "            embedding = None\n",
    "            with torch.no_grad():\n",
    "                if i == 0:\n",
    "                    # no overlap on first iter\n",
    "                    tmp_embedding = batch_tokens[batch:batch+batches, i:max_embedding+i]\n",
    "                    embedding = model(tmp_embedding.to(device), repr_layers=[33])[\"representations\"][33].cpu()\n",
    "                else:\n",
    "                    tmp_embedding = batch_tokens[batch:batch+batches, (max_embedding*i-offset*i):(max_embedding*(i+1)-offset*i)]\n",
    "                    embedding = model(tmp_embedding.to(device), repr_layers=[33])[\"representations\"][33].cpu()\n",
    "\n",
    "                    # concatenate by overlap for > max_embedding sequences\n",
    "                    overlap = int(offset/2)\n",
    "                    embedding = torch.cat([batch_result[:, :-overlap, :], embedding[:, overlap:, :]], dim=1)\n",
    "\n",
    "                batch_result = embedding\n",
    "            \n",
    "        # concatenate finished sequences\n",
    "        result = torch.cat([result, batch_result], dim=0)\n",
    "            \n",
    "        #print(\"Finished embedding batch {} of {}\".format(batch+batches, batch_tokens.shape[0]))\n",
    "\n",
    "    # add extrapolated zeros\n",
    "    for idx_seq in range(len(batch_strs)):\n",
    "        result[idx_seq, len(batch_strs[idx_seq]):, :] = 0\n",
    "        \n",
    "    return result"
   ]
  },
  {
   "cell_type": "markdown",
   "id": "removable-warner",
   "metadata": {
    "papermill": {
     "duration": 0.013932,
     "end_time": "2021-02-25T16:32:25.543637",
     "exception": false,
     "start_time": "2021-02-25T16:32:25.529705",
     "status": "completed"
    },
    "tags": []
   },
   "source": [
    "**Save embeddings**"
   ]
  },
  {
   "cell_type": "markdown",
   "id": "fallen-uniform",
   "metadata": {
    "papermill": {
     "duration": 0.013072,
     "end_time": "2021-02-25T16:32:25.571550",
     "exception": false,
     "start_time": "2021-02-25T16:32:25.558478",
     "status": "completed"
    },
    "tags": []
   },
   "source": [
    "The embeddings are merged with the labels from the original datasets"
   ]
  },
  {
   "cell_type": "code",
   "execution_count": 8,
   "id": "lined-money",
   "metadata": {
    "execution": {
     "iopub.execute_input": "2021-02-25T16:32:25.602127Z",
     "iopub.status.busy": "2021-02-25T16:32:25.601729Z",
     "iopub.status.idle": "2021-02-25T16:32:25.603179Z",
     "shell.execute_reply": "2021-02-25T16:32:25.603467Z"
    },
    "papermill": {
     "duration": 0.018858,
     "end_time": "2021-02-25T16:32:25.603563",
     "exception": false,
     "start_time": "2021-02-25T16:32:25.584705",
     "status": "completed"
    },
    "tags": []
   },
   "outputs": [],
   "source": [
    "def add_embedding(name, dataset):\n",
    "    # create embedding\n",
    "    result = overlap_method(sparse_to_sequence(dataset))\n",
    "    \n",
    "    dataset = torch.tensor(dataset['data'])\n",
    "    \n",
    "    #remove start and end token\n",
    "    result = result[:, 1:result.shape[1]-1, :]\n",
    "    \n",
    "    #merge labels from original dataset and save\n",
    "    result = torch.cat([dataset, result], dim=2)\n",
    "    np.savez_compressed(dir_path + \"esm1b_\" + name + \".npz\", data=result.numpy())\n",
    "    \n",
    "    print(name + \" saved\")"
   ]
  },
  {
   "cell_type": "markdown",
   "id": "future-clone",
   "metadata": {
    "papermill": {
     "duration": 0.013518,
     "end_time": "2021-02-25T16:32:25.630988",
     "exception": false,
     "start_time": "2021-02-25T16:32:25.617470",
     "status": "completed"
    },
    "tags": []
   },
   "source": [
    "**Add embeddings to datasets and save to file**"
   ]
  },
  {
   "cell_type": "code",
   "execution_count": 9,
   "id": "sized-contributor",
   "metadata": {
    "execution": {
     "iopub.execute_input": "2021-02-25T16:32:25.660311Z",
     "iopub.status.busy": "2021-02-25T16:32:25.659931Z"
    },
    "papermill": {
     "duration": 19354.957494,
     "end_time": "2021-02-25T21:55:00.602094",
     "exception": false,
     "start_time": "2021-02-25T16:32:25.644600",
     "status": "completed"
    },
    "tags": []
   },
   "outputs": [],
   "source": [
    "for name, data in datasets:\n",
    "    add_embedding(name, data)"
   ]
  },
  {
   "cell_type": "code",
   "execution_count": null,
   "id": "prescription-physiology",
   "metadata": {
    "papermill": {
     "duration": null,
     "end_time": null,
     "exception": null,
     "start_time": null,
     "status": "completed"
    },
    "tags": []
   },
   "outputs": [],
   "source": []
  }
 ],
 "metadata": {
  "kernelspec": {
   "display_name": "Python 3",
   "language": "python",
   "name": "python3"
  },
  "language_info": {
   "codemirror_mode": {
    "name": "ipython",
    "version": 3
   },
   "file_extension": ".py",
   "mimetype": "text/x-python",
   "name": "python",
   "nbconvert_exporter": "python",
   "pygments_lexer": "ipython3",
   "version": "3.6.10"
  },
  "papermill": {
   "default_parameters": {},
   "duration": 19418.457535,
   "end_time": "2021-02-25T21:55:01.609090",
   "environment_variables": {},
   "exception": null,
   "input_path": "embeddings_esm.ipynb",
   "output_path": "embeddings_esm.ipynb",
   "parameters": {},
   "start_time": "2021-02-25T16:31:23.151555",
   "version": "2.3.2"
  }
 },
 "nbformat": 4,
 "nbformat_minor": 5
}