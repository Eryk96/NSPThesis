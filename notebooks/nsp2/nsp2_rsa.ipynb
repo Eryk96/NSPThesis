{
 "cells": [
  {
   "cell_type": "markdown",
   "id": "early-passion",
   "metadata": {
    "papermill": {
     "duration": 0.02936,
     "end_time": "2021-03-01T23:53:40.807854",
     "exception": false,
     "start_time": "2021-03-01T23:53:40.778494",
     "status": "completed"
    },
    "tags": []
   },
   "source": [
    "# Replication of NetSurfP 2.0 with pyTorch"
   ]
  },
  {
   "cell_type": "markdown",
   "id": "headed-registration",
   "metadata": {
    "papermill": {
     "duration": 0.024954,
     "end_time": "2021-03-01T23:53:40.859211",
     "exception": false,
     "start_time": "2021-03-01T23:53:40.834257",
     "status": "completed"
    },
    "tags": []
   },
   "source": [
    "The purpose of this notebook is to replicate the current version of NetSurfP 2.0"
   ]
  },
  {
   "cell_type": "markdown",
   "id": "binding-drive",
   "metadata": {
    "papermill": {
     "duration": 0.023359,
     "end_time": "2021-03-01T23:53:40.906889",
     "exception": false,
     "start_time": "2021-03-01T23:53:40.883530",
     "status": "completed"
    },
    "tags": []
   },
   "source": [
    "**Load libraries**"
   ]
  },
  {
   "cell_type": "markdown",
   "id": "agricultural-costa",
   "metadata": {
    "papermill": {
     "duration": 0.02982,
     "end_time": "2021-03-01T23:53:40.958529",
     "exception": false,
     "start_time": "2021-03-01T23:53:40.928709",
     "status": "completed"
    },
    "tags": []
   },
   "source": [
    "The different libraries are initialized and pytorch is either configured to use the CPU or an available GPU."
   ]
  },
  {
   "cell_type": "code",
   "execution_count": 1,
   "id": "handmade-european",
   "metadata": {
    "execution": {
     "iopub.execute_input": "2021-03-01T23:53:41.031714Z",
     "iopub.status.busy": "2021-03-01T23:53:41.031304Z",
     "iopub.status.idle": "2021-03-01T23:53:44.431835Z",
     "shell.execute_reply": "2021-03-01T23:53:44.432239Z"
    },
    "papermill": {
     "duration": 3.440896,
     "end_time": "2021-03-01T23:53:44.432365",
     "exception": false,
     "start_time": "2021-03-01T23:53:40.991469",
     "status": "completed"
    },
    "tags": []
   },
   "outputs": [
    {
     "name": "stdout",
     "output_type": "stream",
     "text": [
      "Using device: cuda\n",
      "Tesla V100-PCIE-16GB\n"
     ]
    }
   ],
   "source": [
    "import pylab\n",
    "import numpy as np\n",
    "import torch\n",
    "import torch.nn as nn\n",
    "import torch.nn.functional as F\n",
    "import torch.optim as optim\n",
    "import torchvision\n",
    "\n",
    "from torch_lr_finder import LRFinder\n",
    "from torch.utils.data import Dataset, DataLoader\n",
    "from torch.utils.data.sampler import SubsetRandomSampler\n",
    "from torch.nn.utils.rnn import pack_padded_sequence, pad_packed_sequence\n",
    "from torch.autograd import Variable\n",
    "\n",
    "# debugging\n",
    "import pdb\n",
    "\n",
    "# setting device on GPU if available, else CPU\n",
    "device = torch.device('cuda' if torch.cuda.is_available() else 'cpu')\n",
    "\n",
    "print('Using device:', device)\n",
    "\n",
    "#Additional Info when using cuda\n",
    "if device.type == 'cuda':\n",
    "    print(torch.cuda.get_device_name(0))"
   ]
  },
  {
   "cell_type": "markdown",
   "id": "matched-profit",
   "metadata": {
    "papermill": {
     "duration": 0.023667,
     "end_time": "2021-03-01T23:53:44.479728",
     "exception": false,
     "start_time": "2021-03-01T23:53:44.456061",
     "status": "completed"
    },
    "tags": []
   },
   "source": [
    "## 1. Preparation of the data"
   ]
  },
  {
   "cell_type": "markdown",
   "id": "nonprofit-dakota",
   "metadata": {
    "papermill": {
     "duration": 0.023189,
     "end_time": "2021-03-01T23:53:44.526024",
     "exception": false,
     "start_time": "2021-03-01T23:53:44.502835",
     "status": "completed"
    },
    "tags": []
   },
   "source": [
    "Each dataset is compressed as a numpy zip and the dimensions of the dataset are as following: \n",
    "\n",
    "**[sequence, position, label]**\n",
    "\n",
    "The labels are as following in the data (shown by index):\n",
    "- [0:20] Amino Acids (sparse encoding) (Unknown residues are stored as an all-zero vector)\n",
    "- [20:50] hmm profile\n",
    "- [50] Seq mask (1 = seq, 0 = empty)\n",
    "- [51] Disordered mask (0 = disordered, 1 = ordered)\n",
    "- [52] Evaluation mask (For CB513 dataset, 1 = eval, 0 = ignore)\n",
    "- [53] ASA (isolated)\n",
    "- [54] ASA (complexed)\n",
    "- [55] RSA (isolated)\n",
    "- [56] RSA (complexed)\n",
    "- [57:65] Q8 GHIBESTC (Q8 -> Q3: HHHEECCC)\n",
    "- [65:67] Phi+Psi\n",
    "- [67] ASA_max"
   ]
  },
  {
   "cell_type": "markdown",
   "id": "under-modeling",
   "metadata": {
    "papermill": {
     "duration": 0.022542,
     "end_time": "2021-03-01T23:53:44.574014",
     "exception": false,
     "start_time": "2021-03-01T23:53:44.551472",
     "status": "completed"
    },
    "tags": []
   },
   "source": [
    "### Loading the datasets"
   ]
  },
  {
   "cell_type": "code",
   "execution_count": 2,
   "id": "determined-collapse",
   "metadata": {
    "execution": {
     "iopub.execute_input": "2021-03-01T23:53:44.622884Z",
     "iopub.status.busy": "2021-03-01T23:53:44.622496Z",
     "iopub.status.idle": "2021-03-01T23:53:44.643578Z",
     "shell.execute_reply": "2021-03-01T23:53:44.643889Z"
    },
    "papermill": {
     "duration": 0.046882,
     "end_time": "2021-03-01T23:53:44.643978",
     "exception": false,
     "start_time": "2021-03-01T23:53:44.597096",
     "status": "completed"
    },
    "tags": []
   },
   "outputs": [],
   "source": [
    "train_hhblits = np.load(\"../../data/nsp2/training_data/Train_HHblits_small.npz\")\n",
    "#CB513_hhblits = np.load(\"../../data/nsp2/training_data/CB513_HHblits.npz\")\n",
    "#TS115_hhblits = np.load(\"../../data/nsp2/training_data/TS115_HHblits.npz\")\n",
    "CASP12_hhblits = np.load(\"../../data/nsp2/training_data/CASP12_HHblits.npz\")\n",
    "\n",
    "#np.savez_compressed(\"../../data/nsp2/training_data/Train_HHblits_small.npz\", data=train_hhblits['data'][:2500, :, :])\n",
    "\n",
    "#train_mmseqs = np.load(\"../../data/nsp2/training_data/Train_MMseqs.npz\")\n",
    "#CB513_mmseqs = np.load(\"../../data/nsp2/training_data/CB513_MMseqs.npz\")\n",
    "#TS115_mmseqs = np.load(\"../../data/nsp2/training_data/TS115_MMseqs.npz\")\n",
    "#CASP12_mmseqs = np.load(\"../../data/nsp2/training_data/CASP12_MMseqs.npz\")"
   ]
  },
  {
   "cell_type": "markdown",
   "id": "under-survival",
   "metadata": {
    "papermill": {
     "duration": 0.02298,
     "end_time": "2021-03-01T23:53:44.689662",
     "exception": false,
     "start_time": "2021-03-01T23:53:44.666682",
     "status": "completed"
    },
    "tags": []
   },
   "source": [
    "### Custom Data loader class"
   ]
  },
  {
   "cell_type": "markdown",
   "id": "casual-spoke",
   "metadata": {
    "papermill": {
     "duration": 0.022543,
     "end_time": "2021-03-01T23:53:44.734853",
     "exception": false,
     "start_time": "2021-03-01T23:53:44.712310",
     "status": "completed"
    },
    "tags": []
   },
   "source": [
    "A data loader class is created to load the NSP data into a DataLoader object. The DataLoader is a pytorch object, thats used to feed the data as batches. Which will be usefull when training and evaluating the NSP model. The NSPData class divides the dataset into input data and target labels."
   ]
  },
  {
   "cell_type": "code",
   "execution_count": 3,
   "id": "representative-rebel",
   "metadata": {
    "execution": {
     "iopub.execute_input": "2021-03-01T23:53:44.784413Z",
     "iopub.status.busy": "2021-03-01T23:53:44.783997Z",
     "iopub.status.idle": "2021-03-01T23:53:44.785777Z",
     "shell.execute_reply": "2021-03-01T23:53:44.785451Z"
    },
    "papermill": {
     "duration": 0.029219,
     "end_time": "2021-03-01T23:53:44.785857",
     "exception": false,
     "start_time": "2021-03-01T23:53:44.756638",
     "status": "completed"
    },
    "tags": []
   },
   "outputs": [],
   "source": [
    "class NSPData(Dataset):\n",
    "    def __init__(self, dataset, indices = False):\n",
    "        \"\"\" Constructor\n",
    "        Args:\n",
    "            X (np.array): The array that contains the training data\n",
    "            y (np.array): The array that contains the test data\n",
    "        \"\"\"\n",
    "        if indices:\n",
    "            self.data = torch.tensor(dataset['data'][indices, :, :50]).float()\n",
    "            self.targets = torch.tensor(dataset['data'][indices, :, 50:68]).float()\n",
    "        else:\n",
    "            self.data = torch.tensor(dataset['data'][:, :, :50]).float()\n",
    "            self.targets = torch.tensor(dataset['data'][:, :, 50:68]).float()\n",
    "\n",
    "    def __getitem__(self, index):\n",
    "        \"\"\" Returns train and test data at an index\n",
    "        Args:\n",
    "            index (int): Index at the array\n",
    "        \"\"\"\n",
    "        X = self.data[index]\n",
    "        y = self.targets[index]\n",
    "        seq_len = len(X[y[:, 0] == 1])\n",
    "        \n",
    "        return X, y, seq_len\n",
    "    \n",
    "    def __len__(self):\n",
    "        \"\"\"Returns the length of the data\"\"\"\n",
    "        return len(self.data)"
   ]
  },
  {
   "cell_type": "markdown",
   "id": "inclusive-capture",
   "metadata": {
    "papermill": {
     "duration": 0.022952,
     "end_time": "2021-03-01T23:53:44.831913",
     "exception": false,
     "start_time": "2021-03-01T23:53:44.808961",
     "status": "completed"
    },
    "tags": []
   },
   "source": [
    "It is important to have a training and validation set when training to evaluate the training performance. Therefore, a function that splits the dataset into training and evaluation is created for that purpose."
   ]
  },
  {
   "cell_type": "code",
   "execution_count": 4,
   "id": "varying-chemistry",
   "metadata": {
    "execution": {
     "iopub.execute_input": "2021-03-01T23:53:44.882387Z",
     "iopub.status.busy": "2021-03-01T23:53:44.881997Z",
     "iopub.status.idle": "2021-03-01T23:53:44.883880Z",
     "shell.execute_reply": "2021-03-01T23:53:44.883514Z"
    },
    "papermill": {
     "duration": 0.028957,
     "end_time": "2021-03-01T23:53:44.883957",
     "exception": false,
     "start_time": "2021-03-01T23:53:44.855000",
     "status": "completed"
    },
    "tags": []
   },
   "outputs": [],
   "source": [
    "def split_dataset(batch_size, dataset, split=0.05):\n",
    "    \"\"\" Splits the dataset into train and validation\n",
    "    Args:\n",
    "        batch_size (int): size of each batch\n",
    "        dataset (np.array): dataset containing training data\n",
    "        validation_fraction (float): the size of the validation set as a fraction\n",
    "    \"\"\"\n",
    "    \n",
    "    num_train = len(dataset['data'])\n",
    "    train_indices = np.array(range(num_train))\n",
    "    validation_indices = np.random.choice(train_indices, int(num_train*split), replace=False)\n",
    "    \n",
    "    train_indices = np.delete(train_indices, validation_indices)\n",
    "    \n",
    "    # subset the dataset\n",
    "    train_idx, valid_idx = train_indices, validation_indices\n",
    "    train_sampler = SubsetRandomSampler(train_idx)\n",
    "    valid_sampler = SubsetRandomSampler(valid_idx)\n",
    "    \n",
    "    training_set = DataLoader(NSPData(dataset), sampler=train_sampler, batch_size=batch_size)\n",
    "    validation_set = DataLoader(NSPData(dataset), sampler=valid_sampler, batch_size=batch_size)\n",
    "    \n",
    "    return training_set, validation_set\n",
    "    "
   ]
  },
  {
   "cell_type": "markdown",
   "id": "coupled-straight",
   "metadata": {
    "papermill": {
     "duration": 0.022371,
     "end_time": "2021-03-01T23:53:44.929585",
     "exception": false,
     "start_time": "2021-03-01T23:53:44.907214",
     "status": "completed"
    },
    "tags": []
   },
   "source": [
    "Cross validation"
   ]
  },
  {
   "cell_type": "code",
   "execution_count": 5,
   "id": "deadly-diesel",
   "metadata": {
    "execution": {
     "iopub.execute_input": "2021-03-01T23:53:44.981711Z",
     "iopub.status.busy": "2021-03-01T23:53:44.981323Z",
     "iopub.status.idle": "2021-03-01T23:53:44.982599Z",
     "shell.execute_reply": "2021-03-01T23:53:44.982957Z"
    },
    "papermill": {
     "duration": 0.030947,
     "end_time": "2021-03-01T23:53:44.983045",
     "exception": false,
     "start_time": "2021-03-01T23:53:44.952098",
     "status": "completed"
    },
    "tags": []
   },
   "outputs": [],
   "source": [
    "def partitions(number, k):\n",
    "    '''\n",
    "    Distribution of the folds\n",
    "    Args:\n",
    "        number: amount of sequences\n",
    "        k: folds number\n",
    "    '''\n",
    "    n_partitions = np.ones(k) * int(number/k)\n",
    "    n_partitions[0:(number % k)] += 1\n",
    "    return n_partitions\n",
    "\n",
    "def get_indices(n_splits, sequences):\n",
    "    '''\n",
    "    Indices for the validation\n",
    "    Args:\n",
    "        n_splits: folds number\n",
    "        sequences: length of the sequence\n",
    "    '''\n",
    "    fold_sizes = partitions(sequences, n_splits)\n",
    "    indices = np.arange(sequences).astype(int)\n",
    "    current = 0\n",
    "    for fold_size in fold_sizes:\n",
    "        start = current\n",
    "        stop =  current + fold_size\n",
    "        current = stop\n",
    "        yield(indices[int(start):int(stop)])\n",
    "\n",
    "def k_folds(n_splits, sequences):\n",
    "    '''\n",
    "    Generates folds for cross validation\n",
    "    Args:\n",
    "        n_splits: folds number\n",
    "        sequences: amount of sequences\n",
    "    '''\n",
    "    indices = np.arange(sequences).astype(int)\n",
    "    for val_idx in get_indices(n_splits, sequences):\n",
    "        train_idx = np.setdiff1d(indices, val_idx)\n",
    "        yield SubsetRandomSampler(train_idx), SubsetRandomSampler(val_idx)"
   ]
  },
  {
   "cell_type": "markdown",
   "id": "found-local",
   "metadata": {
    "papermill": {
     "duration": 0.024155,
     "end_time": "2021-03-01T23:53:45.029631",
     "exception": false,
     "start_time": "2021-03-01T23:53:45.005476",
     "status": "completed"
    },
    "tags": []
   },
   "source": [
    "**Instanciate data into the data loader class**"
   ]
  },
  {
   "cell_type": "markdown",
   "id": "adaptive-calcium",
   "metadata": {
    "papermill": {
     "duration": 0.024885,
     "end_time": "2021-03-01T23:53:45.078593",
     "exception": false,
     "start_time": "2021-03-01T23:53:45.053708",
     "status": "completed"
    },
    "tags": []
   },
   "source": [
    "The training datasets are splitted into training and validation for training. Whereas the test sets are simply loaded, since they are independent datasets. The batch sizes is set to 15. The default training/validation split is 80/20."
   ]
  },
  {
   "cell_type": "code",
   "execution_count": 6,
   "id": "protected-roller",
   "metadata": {
    "execution": {
     "iopub.execute_input": "2021-03-01T23:53:45.131889Z",
     "iopub.status.busy": "2021-03-01T23:53:45.131522Z",
     "iopub.status.idle": "2021-03-01T23:53:45.133518Z",
     "shell.execute_reply": "2021-03-01T23:53:45.133193Z"
    },
    "papermill": {
     "duration": 0.029808,
     "end_time": "2021-03-01T23:53:45.133595",
     "exception": false,
     "start_time": "2021-03-01T23:53:45.103787",
     "status": "completed"
    },
    "tags": []
   },
   "outputs": [],
   "source": [
    "batch_size = 15"
   ]
  },
  {
   "cell_type": "code",
   "execution_count": 7,
   "id": "removable-hughes",
   "metadata": {
    "execution": {
     "iopub.execute_input": "2021-03-01T23:53:45.186103Z",
     "iopub.status.busy": "2021-03-01T23:53:45.185704Z",
     "iopub.status.idle": "2021-03-02T00:01:01.244244Z",
     "shell.execute_reply": "2021-03-02T00:01:01.250871Z"
    },
    "papermill": {
     "duration": 436.097847,
     "end_time": "2021-03-02T00:01:01.256874",
     "exception": false,
     "start_time": "2021-03-01T23:53:45.159027",
     "status": "completed"
    },
    "tags": []
   },
   "outputs": [],
   "source": [
    "# training and validation sets\n",
    "#train_hhblits = DataLoader(NSPData(train_hhblits), batch_size=batch_size, shuffle=True) \n",
    "train_hhblits = split_dataset(batch_size, train_hhblits)\n",
    "#train_mmseqs = DataLoader(NSPData(train_mmseqs), batch_size=batch_size) #split_dataset(batch_size, train_mmseqs)\n",
    "\n",
    "# test sets\n",
    "#CB513_hhblits = DataLoader(NSPData(CB513_hhblits), batch_size=batch_size)\n",
    "#TS115_hhblits = DataLoader(NSPData(TS115_hhblits), batch_size=batch_size)\n",
    "CASP12_hhblits = DataLoader(NSPData(CASP12_hhblits), batch_size=batch_size)\n",
    "\n",
    "#CB513_mmseqs = DataLoader(NSPData(CB513_mmseqs), batch_size=batch_size)\n",
    "#TS115_mmseqs = DataLoader(NSPData(TS115_mmseqs), batch_size=batch_size)\n",
    "#CASP12_mmseqs = DataLoader(NSPData(CASP12_mmseqs), batch_size=batch_size)"
   ]
  },
  {
   "cell_type": "markdown",
   "id": "demographic-ebony",
   "metadata": {
    "papermill": {
     "duration": 0.027585,
     "end_time": "2021-03-02T00:01:01.375420",
     "exception": false,
     "start_time": "2021-03-02T00:01:01.347835",
     "status": "completed"
    },
    "tags": []
   },
   "source": [
    "## 2. The NSP Classifier"
   ]
  },
  {
   "cell_type": "markdown",
   "id": "latter-trade",
   "metadata": {
    "papermill": {
     "duration": 0.025963,
     "end_time": "2021-03-02T00:01:01.425967",
     "exception": false,
     "start_time": "2021-03-02T00:01:01.400004",
     "status": "completed"
    },
    "tags": []
   },
   "source": [
    "The input layer consists of one-hot encoded sequences (20 features amino acids) and a full HMM profile (20 features for amino acid profile, 7 features of state transition probabilities and 3 features for local alignment diversity) The input layer is followed by two layers of 1D CNN layers, that consist of 32 filters with a size of 129 and 257. Whereas the output of the last 1D CNN is concatenated with the initial input features. These residuals connections are used to achieve a better backpropagation without gradient degradation and a deeper network. The concatenated input+residuals is then applied to 2 bidirectional long  short-term memory (LSTM) layers with 1024 nodes, that outputs 2048 hidden neurons. The hidden neurons output is input to a fully connected (FC) layer to predict the 18 classes (RSA, SS8, SS3, φ, ψ, and disorder)."
   ]
  },
  {
   "cell_type": "code",
   "execution_count": 8,
   "id": "stretch-venezuela",
   "metadata": {
    "execution": {
     "iopub.execute_input": "2021-03-02T00:01:01.531892Z",
     "iopub.status.busy": "2021-03-02T00:01:01.530566Z",
     "iopub.status.idle": "2021-03-02T00:01:01.532947Z",
     "shell.execute_reply": "2021-03-02T00:01:01.533769Z"
    },
    "papermill": {
     "duration": 0.081896,
     "end_time": "2021-03-02T00:01:01.533871",
     "exception": false,
     "start_time": "2021-03-02T00:01:01.451975",
     "status": "completed"
    },
    "tags": []
   },
   "outputs": [],
   "source": [
    "class NSP_Network(nn.Module):\n",
    "    def __init__(self, init_channels, n_hidden):\n",
    "        \"\"\" Constructor of the NSP network\n",
    "        Args:\n",
    "            init_channels (int): The size of the incoming feature vector\n",
    "            n_hidden: (int) The amount of hidden neurons in the bidirectional lstm\n",
    "        \"\"\"\n",
    "        super(NSP_Network, self).__init__()\n",
    "\n",
    "        self.hidden_dim = n_hidden\n",
    "        \n",
    "        # residual block\n",
    "        self.conv1 = nn.Sequential(*[\n",
    "            nn.Conv1d(in_channels=init_channels, out_channels=32, kernel_size=129, padding=64),\n",
    "            #nn.BatchNorm1d(32),\n",
    "            nn.LeakyReLU(),\n",
    "            #nn.Dropout(p=0.5)\n",
    "        ])\n",
    "\n",
    "        self.conv2 = nn.Sequential(*[\n",
    "            nn.Conv1d(in_channels=init_channels, out_channels=32, kernel_size=257, padding=128),\n",
    "            #nn.BatchNorm1d(32),\n",
    "            nn.LeakyReLU(),\n",
    "            #nn.Dropout(p=0.5)\n",
    "        ])\n",
    "\n",
    "        self.lstm = nn.LSTM(input_size=init_channels+64, hidden_size=n_hidden, \\\n",
    "                                num_layers=2, batch_first=True, bidirectional=True)\n",
    "\n",
    "        # output tasks\n",
    "        #self.ss8 = nn.Linear(in_features=n_hidden*2, out_features=8)\n",
    "        #self.ss3 = nn.Linear(in_features=n_hidden*2, out_features=3)\n",
    "        #self.disorder = nn.Linear(in_features=n_hidden*2, out_features=2)\n",
    "        self.rsa = nn.Linear(in_features=n_hidden*2, out_features=1)\n",
    "        #self.phi = nn.Linear(in_features=n_hidden*2, out_features=2)\n",
    "        #self.psi = nn.Linear(in_features=n_hidden*2, out_features=2)\n",
    "        \n",
    "    def init_hidden(self, batch_size):\n",
    "        ''' Initializes hidden state '''\n",
    "        # Create two new tensors with sizes n_layers x batch_size x hidden_dim,\n",
    "        # initialized to zero, for hidden state and cell state of LSTM\n",
    "        n_layer = 2\n",
    "        \n",
    "        h, c = (Variable(torch.zeros(n_layer * 2, batch_size, self.hidden_dim).cuda()),\n",
    "                Variable(torch.zeros(n_layer * 2, batch_size, self.hidden_dim).cuda()))\n",
    "        \n",
    "        return (h, c)\n",
    "        \n",
    "    def forward(self, x, lengths):\n",
    "        \"\"\" Forwarding of the classifier input\n",
    "        Args:\n",
    "            x (torch.tensor): input data\n",
    "        \"\"\"\n",
    "        # Get the sizes of the inputs\n",
    "        b, l, _ = x.size()\n",
    "        \n",
    "        # calculate the residuals\n",
    "        x = x.permute(0,2,1)\n",
    "        r1 = self.conv1(x)\n",
    "        r2 = self.conv2(x)\n",
    "                \n",
    "        # concatenate channels from residuals and input\n",
    "        x = torch.cat([x, r1, r2], dim=1)\n",
    "        \n",
    "        # calculate double layer bidirectional lstm\n",
    "        x = x.permute(0,2,1)\n",
    "        \n",
    "        self.hidden = self.init_hidden(b)\n",
    "    \n",
    "        x = pack_padded_sequence(x, lengths, batch_first=True, enforce_sorted=False)\n",
    "        x, self.hidden = self.lstm(x, self.hidden)\n",
    "        x, _ = pad_packed_sequence(x, batch_first=True, total_length=l)\n",
    "    \n",
    "        # hidden neurons to classes\n",
    "        #ss8 = self.ss8(x)\n",
    "        #ss3 = self.ss3(x)\n",
    "        #disorder = self.disorder(x)\n",
    "        rsa = self.rsa(x)\n",
    "        #phi = self.phi(x)\n",
    "        #psi = self.psi(x)\n",
    "\n",
    "        return [rsa] #[ss8, ss3, disorder, rsa, phi, psi]"
   ]
  },
  {
   "cell_type": "markdown",
   "id": "healthy-popularity",
   "metadata": {
    "papermill": {
     "duration": 0.02667,
     "end_time": "2021-03-02T00:01:01.596156",
     "exception": false,
     "start_time": "2021-03-02T00:01:01.569486",
     "status": "completed"
    },
    "tags": []
   },
   "source": [
    "## 3. Loss function"
   ]
  },
  {
   "cell_type": "markdown",
   "id": "dominant-cargo",
   "metadata": {
    "papermill": {
     "duration": 0.024851,
     "end_time": "2021-03-02T00:01:01.646222",
     "exception": false,
     "start_time": "2021-03-02T00:01:01.621371",
     "status": "completed"
    },
    "tags": []
   },
   "source": [
    "To train the model, loss functions are required. The tasks SS8, SS3 and disorder uses cross entropy loss function and RSA, φ and ψ use mean squared error loss.\n",
    "\n",
    "Weights were adjusted so each loss contribution was approximately equal by using homoscedastic uncertainty and optimizing the log variances for each prediction. (https://arxiv.org/abs/1705.07115)\n",
    "\n",
    "In the forwarding of the MultiTaskLoss, filters are used to remove extrapolated zeros or disordered regions from the calculated losses.\n",
    "\n",
    "The indexes for the labels are described in the data preparation section."
   ]
  },
  {
   "cell_type": "code",
   "execution_count": 9,
   "id": "funny-harrison",
   "metadata": {
    "execution": {
     "iopub.execute_input": "2021-03-02T00:01:01.709436Z",
     "iopub.status.busy": "2021-03-02T00:01:01.707128Z",
     "iopub.status.idle": "2021-03-02T00:01:01.711780Z",
     "shell.execute_reply": "2021-03-02T00:01:01.711021Z"
    },
    "papermill": {
     "duration": 0.036934,
     "end_time": "2021-03-02T00:01:01.711869",
     "exception": false,
     "start_time": "2021-03-02T00:01:01.674935",
     "status": "completed"
    },
    "tags": []
   },
   "outputs": [],
   "source": [
    "class MultiTaskLoss(nn.Module):\n",
    "    \"\"\" Weighs multiple loss functions by considering the \n",
    "        homoscedastic uncertainty of each task \"\"\"\n",
    "    \n",
    "    def __init__(self):\n",
    "        super(MultiTaskLoss, self).__init__()\n",
    "        \n",
    "        #self.log_vars = nn.Parameter(torch.zeros(6))\n",
    "\n",
    "    def forward(self, outputs, labels):\n",
    "        \"\"\" Forwarding of the multitaskloss input\n",
    "        Args:\n",
    "            outputs (torch.tensor): output data from model\n",
    "            labels (torch.tensor): corresponding labels for the output\n",
    "        \"\"\"\n",
    "         \n",
    "        # filters\n",
    "        zero_mask = (labels[:, :, 0] == 0)\n",
    "        disorder_mask = (labels[:, :, 1] == 0)\n",
    "        \n",
    "        # apply the SS8 loss\n",
    "        #SS8_labels = torch.argmax(labels[:, :, 7:15], dim=2)\n",
    "        #SS8_inputs = outputs[0].permute(0, 2, 1)\n",
    "        #SS8_loss = nn.CrossEntropyLoss(reduction=\"none\")(SS8_inputs, SS8_labels)\n",
    "        \n",
    "        #SS8_loss = SS8_loss[zero_mask | disorder_mask].sum()\n",
    "        \n",
    "        # apply the SS3 loss\n",
    "        #SS3_mask = torch.tensor([0,0,0,1,1,2,2,2], device=device)\n",
    "\n",
    "        #SS3_labels = torch.max(labels[:, :, 7:15] * SS3_mask, dim=2)[0].long()\n",
    "        #SS3_inputs = outputs[1].permute(0, 2, 1)\n",
    "        #SS3_loss = nn.CrossEntropyLoss(reduction=\"none\")(SS3_inputs, SS3_labels)\n",
    "        \n",
    "        #SS3_loss = SS3_loss[zero_mask | disorder_mask].sum()\n",
    "\n",
    "        # apply the disorder loss\n",
    "        #disorder_labels = labels[:, :, 1].long()\n",
    "        #disorder_inputs = outputs[2].permute(0, 2, 1)\n",
    "        #disorder_loss = nn.CrossEntropyLoss(reduction=\"none\")(disorder_inputs, disorder_labels)\n",
    "        \n",
    "        #disorder_loss = disorder_loss[zero_mask].sum()\n",
    "\n",
    "        # apply RSA loss\n",
    "        rsa_labels = labels[:, :, 5]\n",
    "        rsa_inputs = outputs[0].squeeze(2)\n",
    "        \n",
    "        rsa_loss = nn.MSELoss(reduction=\"none\")(rsa_inputs, rsa_labels)\n",
    "        \n",
    "        with torch.no_grad():\n",
    "            rsa_loss[zero_mask & disorder_mask] = 0\n",
    "            \n",
    "        rsa_loss = rsa_loss.sum()\n",
    "\n",
    "        # apply phi loss\n",
    "        #phi_labels = labels[:, :, 15].unsqueeze(2)\n",
    "        #phi_inputs = outputs[4]\n",
    "         \n",
    "        #phi_loss = nn.MSELoss(reduction=\"none\")(phi_inputs, \\\n",
    "        #                torch.cat((torch.sin(dihedral_to_radians(phi_labels)), torch.cos(dihedral_to_radians(phi_labels))), dim=2))\n",
    "        \n",
    "        #phi_loss = phi_loss[zero_mask].sum()\n",
    "        \n",
    "        # apply psi loss\n",
    "        #psi_labels = labels[:, :, 16].unsqueeze(2)\n",
    "        #psi_inputs = outputs[5]\n",
    "        \n",
    "        #psi_loss = nn.MSELoss(reduction=\"none\")(psi_inputs, \\\n",
    "        #                torch.cat((torch.sin(dihedral_to_radians(psi_labels)), torch.cos(dihedral_to_radians(psi_labels))), dim=2))\n",
    "        \n",
    "        #psi_loss = psi_loss[zero_mask].sum()\n",
    "        \n",
    "        # weighted losses\n",
    "        #loss = torch.stack([SS8_loss, SS3_loss, disorder_loss, rsa_loss, phi_loss, psi_loss])\n",
    "        \n",
    "        #loss = torch.exp(-self.log_vars) * loss + self.log_vars\n",
    "        \n",
    "        return rsa_loss #loss.mean()    "
   ]
  },
  {
   "cell_type": "markdown",
   "id": "third-observer",
   "metadata": {
    "papermill": {
     "duration": 0.023979,
     "end_time": "2021-03-02T00:01:01.761592",
     "exception": false,
     "start_time": "2021-03-02T00:01:01.737613",
     "status": "completed"
    },
    "tags": []
   },
   "source": [
    "### Utils"
   ]
  },
  {
   "cell_type": "markdown",
   "id": "fabulous-boating",
   "metadata": {
    "papermill": {
     "duration": 0.023395,
     "end_time": "2021-03-02T00:01:01.809075",
     "exception": false,
     "start_time": "2021-03-02T00:01:01.785680",
     "status": "completed"
    },
    "tags": []
   },
   "source": [
    "The model trains phi and psi into each their vector that will contain calculated cos and sin values from the angle. Pytorch works with radians, so these helper functions helps converting dihedral angle values into radians and cos and sin radian values back to a dihedral angle."
   ]
  },
  {
   "cell_type": "code",
   "execution_count": 10,
   "id": "divided-intelligence",
   "metadata": {
    "execution": {
     "iopub.execute_input": "2021-03-02T00:01:01.860534Z",
     "iopub.status.busy": "2021-03-02T00:01:01.860143Z",
     "iopub.status.idle": "2021-03-02T00:01:01.862090Z",
     "shell.execute_reply": "2021-03-02T00:01:01.861722Z"
    },
    "papermill": {
     "duration": 0.030396,
     "end_time": "2021-03-02T00:01:01.862169",
     "exception": false,
     "start_time": "2021-03-02T00:01:01.831773",
     "status": "completed"
    },
    "tags": []
   },
   "outputs": [],
   "source": [
    "def dihedral_to_radians(angle):\n",
    "    \"\"\" Converts angles to radians\n",
    "    Args:\n",
    "        angles (1D Tensor): vector with angle values\n",
    "    \"\"\"\n",
    "    return angle*np.pi/180\n",
    "    \n",
    "def arctan_dihedral(sin, cos):\n",
    "    \"\"\" Converts sin and cos back to diheral angles\n",
    "    Args:\n",
    "        sin (1D Tensor): vector with sin values \n",
    "        cos (1D Tensor): vector with cos values\n",
    "    \"\"\"\n",
    "    result = torch.where(cos >= 0, torch.arctan(sin/cos), torch.arctan(sin/cos)+np.pi)\n",
    "    result = torch.where((sin <= 0) & (cos <= 0), result-np.pi*2, result)\n",
    "    \n",
    "    return result*180/np.pi"
   ]
  },
  {
   "cell_type": "markdown",
   "id": "related-collar",
   "metadata": {
    "papermill": {
     "duration": 0.027072,
     "end_time": "2021-03-02T00:01:02.024592",
     "exception": false,
     "start_time": "2021-03-02T00:01:01.997520",
     "status": "completed"
    },
    "tags": []
   },
   "source": [
    "## 5. Early stopping"
   ]
  },
  {
   "cell_type": "code",
   "execution_count": 11,
   "id": "minimal-creation",
   "metadata": {
    "execution": {
     "iopub.execute_input": "2021-03-02T00:01:02.085702Z",
     "iopub.status.busy": "2021-03-02T00:01:02.083746Z",
     "iopub.status.idle": "2021-03-02T00:01:02.087578Z",
     "shell.execute_reply": "2021-03-02T00:01:02.087258Z"
    },
    "papermill": {
     "duration": 0.038033,
     "end_time": "2021-03-02T00:01:02.087654",
     "exception": false,
     "start_time": "2021-03-02T00:01:02.049621",
     "status": "completed"
    },
    "tags": []
   },
   "outputs": [],
   "source": [
    "class EarlyStopping:\n",
    "    \"\"\"Early stops the training if validation loss doesn't improve after a given patience.\"\"\"\n",
    "    def __init__(self, patience=7, verbose=False, delta=0, path='checkpoint.pt', trace_func=print):\n",
    "        \"\"\"\n",
    "        Args:\n",
    "            patience (int): How long to wait after last time validation loss improved.\n",
    "                            Default: 7\n",
    "            verbose (bool): If True, prints a message for each validation loss improvement. \n",
    "                            Default: False\n",
    "            delta (float): Minimum change in the monitored quantity to qualify as an improvement.\n",
    "                            Default: 0\n",
    "            path (str): Path for the checkpoint to be saved to.\n",
    "                            Default: 'checkpoint.pt'\n",
    "            trace_func (function): trace print function.\n",
    "                            Default: print            \n",
    "        \"\"\"\n",
    "        self.patience = patience\n",
    "        self.verbose = verbose\n",
    "        self.counter = 0\n",
    "        self.best_score = None\n",
    "        self.early_stop = False\n",
    "        self.val_loss_min = np.Inf\n",
    "        self.delta = delta\n",
    "        self.path = path\n",
    "        self.trace_func = trace_func\n",
    "    def __call__(self, val_loss, model):\n",
    "\n",
    "        score = -val_loss\n",
    "\n",
    "        if self.best_score is None:\n",
    "            self.best_score = score\n",
    "            self.save_checkpoint(val_loss, model)\n",
    "        elif score < self.best_score + self.delta:\n",
    "            self.counter += 1\n",
    "            self.trace_func(f'EarlyStopping counter: {self.counter} out of {self.patience}')\n",
    "            if self.counter >= self.patience:\n",
    "                self.early_stop = True\n",
    "        else:\n",
    "            self.best_score = score\n",
    "            self.save_checkpoint(val_loss, model)\n",
    "            self.counter = 0\n",
    "\n",
    "    def save_checkpoint(self, val_loss, model):\n",
    "        '''Saves model when validation loss decrease.'''\n",
    "        if self.verbose:\n",
    "            self.trace_func(f'Validation loss decreased ({self.val_loss_min:.6f} --> {val_loss:.6f}).  Saving model ...')\n",
    "        torch.save(model.state_dict(), self.path)\n",
    "        self.val_loss_min = val_loss"
   ]
  },
  {
   "cell_type": "markdown",
   "id": "elect-maine",
   "metadata": {
    "papermill": {
     "duration": 0.02222,
     "end_time": "2021-03-02T00:01:02.360334",
     "exception": false,
     "start_time": "2021-03-02T00:01:02.338114",
     "status": "completed"
    },
    "tags": []
   },
   "source": [
    "## 5. Training"
   ]
  },
  {
   "cell_type": "markdown",
   "id": "decent-future",
   "metadata": {
    "papermill": {
     "duration": 0.021998,
     "end_time": "2021-03-02T00:01:02.405875",
     "exception": false,
     "start_time": "2021-03-02T00:01:02.383877",
     "status": "completed"
    },
    "tags": []
   },
   "source": [
    "Instanciating the model, criterion and optimizer"
   ]
  },
  {
   "cell_type": "code",
   "execution_count": 12,
   "id": "bottom-vertex",
   "metadata": {
    "execution": {
     "iopub.execute_input": "2021-03-02T00:01:02.455005Z",
     "iopub.status.busy": "2021-03-02T00:01:02.454598Z",
     "iopub.status.idle": "2021-03-02T00:01:02.455974Z",
     "shell.execute_reply": "2021-03-02T00:01:02.456293Z"
    },
    "papermill": {
     "duration": 0.028638,
     "end_time": "2021-03-02T00:01:02.456381",
     "exception": false,
     "start_time": "2021-03-02T00:01:02.427743",
     "status": "completed"
    },
    "tags": []
   },
   "outputs": [],
   "source": [
    "def init_model(initial_channels, hidden_neurons, learning_rate, weight_decay=0):\n",
    "    \"\"\" Initializes a model, criterion and optimizer \n",
    "    Args:\n",
    "        initial_channels (int): amount of initial inputs for the model\n",
    "        hidden_neurons (int): amount of hidden neurons in the model\n",
    "    \"\"\"\n",
    "    \n",
    "    nsp_net = NSP_Network(initial_channels, hidden_neurons)\n",
    "    criterion = MultiTaskLoss()\n",
    "\n",
    "    # enable cuda on model and criterion if possible\n",
    "    if device.type != \"cpu\":\n",
    "        nsp_net.cuda(device)\n",
    "        criterion.cuda(device)\n",
    "\n",
    "    # optimizer for model and criterion\n",
    "    optimizer = optim.Adam(nsp_net.parameters(), lr=learning_rate, weight_decay=weight_decay)\n",
    "    \n",
    "    return nsp_net, criterion, optimizer"
   ]
  },
  {
   "cell_type": "code",
   "execution_count": 13,
   "id": "boring-diary",
   "metadata": {
    "execution": {
     "iopub.execute_input": "2021-03-02T00:01:02.582117Z",
     "iopub.status.busy": "2021-03-02T00:01:02.543968Z",
     "iopub.status.idle": "2021-03-02T00:01:09.166245Z",
     "shell.execute_reply": "2021-03-02T00:01:09.166602Z"
    },
    "papermill": {
     "duration": 6.688721,
     "end_time": "2021-03-02T00:01:09.166734",
     "exception": false,
     "start_time": "2021-03-02T00:01:02.478013",
     "status": "completed"
    },
    "tags": []
   },
   "outputs": [],
   "source": [
    "epochs = 50\n",
    "initial_channels = 50\n",
    "hidden_neurons = 64 #1024\n",
    "\n",
    "nsp_hhblits = init_model(initial_channels, hidden_neurons, learning_rate=1e-3, weight_decay=0)\n",
    "#nsp_mmseqs = init_model(initial_channels, hidden_neurons)"
   ]
  },
  {
   "cell_type": "markdown",
   "id": "beneficial-rating",
   "metadata": {
    "papermill": {
     "duration": 0.023075,
     "end_time": "2021-03-02T00:01:09.213180",
     "exception": false,
     "start_time": "2021-03-02T00:01:09.190105",
     "status": "completed"
    },
    "tags": []
   },
   "source": [
    "The model is trained by iterating through the training dataset for an amount of epochs. The model is trained using backpropagation using the multiple task loss."
   ]
  },
  {
   "cell_type": "code",
   "execution_count": 14,
   "id": "proof-subscription",
   "metadata": {
    "execution": {
     "iopub.execute_input": "2021-03-02T00:01:09.270408Z",
     "iopub.status.busy": "2021-03-02T00:01:09.267348Z",
     "iopub.status.idle": "2021-03-02T00:01:09.271949Z",
     "shell.execute_reply": "2021-03-02T00:01:09.272339Z"
    },
    "papermill": {
     "duration": 0.036133,
     "end_time": "2021-03-02T00:01:09.272433",
     "exception": false,
     "start_time": "2021-03-02T00:01:09.236300",
     "status": "completed"
    },
    "tags": []
   },
   "outputs": [],
   "source": [
    "def training(epochs, model, criterion, optimizer, dataset):\n",
    "    # iterate over the dataset multiple times\n",
    "    training_loss = []\n",
    "    validation_loss = []\n",
    "\n",
    "    train, validation = dataset\n",
    "    \n",
    "    scheduler = optim.lr_scheduler.OneCycleLR(optimizer, max_lr=1e-2, steps_per_epoch=len(train), epochs=epochs)\n",
    "\n",
    "    # initialize the early_stopping object\n",
    "    early_stopping = EarlyStopping(patience=5, verbose=True)\n",
    "    \n",
    "    for epoch in range(epochs):\n",
    "        print('Epoch:', epoch + 1,' of ', epochs)\n",
    "\n",
    "        # training of the model \n",
    "        running_loss = 0.0\n",
    "        for i, data in enumerate(train, 0):\n",
    "            inputs, labels, lengths = data\n",
    "            # move data tensors to GPU if possible\n",
    "            inputs, labels = inputs.to(device), labels.to(device)                         \n",
    "            # zero the parameter gradients\n",
    "            \n",
    "            outputs = model(inputs, lengths)\n",
    "            \n",
    "            optimizer.zero_grad()\n",
    "            # backpropagation by custom criterion\n",
    "            loss = criterion(outputs, labels)\n",
    "            loss.backward()\n",
    "\n",
    "            optimizer.step()\n",
    "            scheduler.step()\n",
    "\n",
    "            running_loss += loss.item()\n",
    "\n",
    "        training_loss.append(running_loss / len(train))\n",
    "        print(\"Training loss: \", round(training_loss[epoch], 2))\n",
    "\n",
    "        #validation of the model\n",
    "        running_loss = 0.0\n",
    "        with torch.no_grad():\n",
    "            for i, data in enumerate(validation, 0):\n",
    "                inputs, labels, lengths = data\n",
    "                # move data tensors to GPU if possible\n",
    "                inputs, labels = inputs.to(device), labels.to(device)\n",
    "\n",
    "                outputs = model(inputs, lengths)\n",
    "\n",
    "                loss = criterion(outputs, labels)\n",
    "\n",
    "                running_loss += loss.item()\n",
    "\n",
    "        validation_loss.append(running_loss / len(validation))\n",
    "        print(\"Validation loss: \", round(validation_loss[epoch], 2))\n",
    "        \n",
    "        early_stopping(validation_loss[epoch], model)\n",
    "        \n",
    "        if early_stopping.early_stop:\n",
    "            print(\"Early stopping\")\n",
    "            break\n",
    "            \n",
    "    # load the last checkpoint with the best model\n",
    "    model.load_state_dict(torch.load('checkpoint.pt'))\n",
    "\n",
    "    print('Finished Training')\n",
    "    \n",
    "    return training_loss, validation_loss"
   ]
  },
  {
   "cell_type": "markdown",
   "id": "stunning-evanescence",
   "metadata": {
    "papermill": {
     "duration": 0.022564,
     "end_time": "2021-03-02T00:01:09.318979",
     "exception": false,
     "start_time": "2021-03-02T00:01:09.296415",
     "status": "completed"
    },
    "tags": []
   },
   "source": [
    "The training loss and validation loss are visualized to evaluate the training performance."
   ]
  },
  {
   "cell_type": "code",
   "execution_count": 15,
   "id": "conditional-ensemble",
   "metadata": {
    "execution": {
     "iopub.execute_input": "2021-03-02T00:01:09.373101Z",
     "iopub.status.busy": "2021-03-02T00:01:09.372555Z",
     "iopub.status.idle": "2021-03-02T00:01:09.374123Z",
     "shell.execute_reply": "2021-03-02T00:01:09.374432Z"
    },
    "papermill": {
     "duration": 0.030337,
     "end_time": "2021-03-02T00:01:09.374520",
     "exception": false,
     "start_time": "2021-03-02T00:01:09.344183",
     "status": "completed"
    },
    "tags": []
   },
   "outputs": [],
   "source": [
    "def plot_loss(training_loss, validation_loss, title):\n",
    "    pylab.plot(training_loss)\n",
    "    pylab.plot(validation_loss)\n",
    "    pylab.xlabel('Epochs')\n",
    "    pylab.ylabel('Loss [sum]')\n",
    "    pylab.legend(('Training loss', 'Validation loss'))\n",
    "    pylab.title(title)\n",
    "    pylab.show()"
   ]
  },
  {
   "cell_type": "code",
   "execution_count": 16,
   "id": "sporting-flight",
   "metadata": {
    "execution": {
     "iopub.execute_input": "2021-03-02T00:01:09.425758Z",
     "iopub.status.busy": "2021-03-02T00:01:09.425344Z",
     "iopub.status.idle": "2021-03-02T02:31:20.178822Z",
     "shell.execute_reply": "2021-03-02T02:31:20.179155Z"
    },
    "papermill": {
     "duration": 9010.780695,
     "end_time": "2021-03-02T02:31:20.179722",
     "exception": false,
     "start_time": "2021-03-02T00:01:09.399027",
     "status": "completed"
    },
    "scrolled": true,
    "tags": []
   },
   "outputs": [
    {
     "name": "stdout",
     "output_type": "stream",
     "text": [
      "Epoch: 1  of  50\n",
      "Training loss:  266.16\n",
      "Validation loss:  199.73\n",
      "Validation loss decreased (inf --> 199.734006).  Saving model ...\n",
      "Epoch: 2  of  50\n",
      "Training loss:  203.92\n",
      "Validation loss:  200.15\n",
      "EarlyStopping counter: 1 out of 5\n",
      "Epoch: 3  of  50\n",
      "Training loss:  196.19\n",
      "Validation loss:  180.24\n",
      "Validation loss decreased (199.734006 --> 180.241292).  Saving model ...\n",
      "Epoch: 4  of  50\n",
      "Training loss:  192.29\n",
      "Validation loss:  183.04\n",
      "EarlyStopping counter: 1 out of 5\n",
      "Epoch: 5  of  50\n",
      "Training loss:  187.59\n",
      "Validation loss:  182.68\n",
      "EarlyStopping counter: 2 out of 5\n",
      "Epoch: 6  of  50\n",
      "Training loss:  179.99\n",
      "Validation loss:  167.35\n",
      "Validation loss decreased (180.241292 --> 167.352616).  Saving model ...\n",
      "Epoch: 7  of  50\n",
      "Training loss:  170.78\n",
      "Validation loss:  172.15\n",
      "EarlyStopping counter: 1 out of 5\n",
      "Epoch: 8  of  50\n",
      "Training loss:  168.53\n",
      "Validation loss:  169.32\n",
      "EarlyStopping counter: 2 out of 5\n",
      "Epoch: 9  of  50\n",
      "Training loss:  169.2\n",
      "Validation loss:  162.87\n",
      "Validation loss decreased (167.352616 --> 162.869219).  Saving model ...\n",
      "Epoch: 10  of  50\n",
      "Training loss:  171.7\n",
      "Validation loss:  183.89\n",
      "EarlyStopping counter: 1 out of 5\n",
      "Epoch: 11  of  50\n",
      "Training loss:  167.92\n",
      "Validation loss:  159.52\n",
      "Validation loss decreased (162.869219 --> 159.515928).  Saving model ...\n",
      "Epoch: 12  of  50\n",
      "Training loss:  161.32\n",
      "Validation loss:  161.3\n",
      "EarlyStopping counter: 1 out of 5\n",
      "Epoch: 13  of  50\n",
      "Training loss:  156.52\n",
      "Validation loss:  176.87\n",
      "EarlyStopping counter: 2 out of 5\n",
      "Epoch: 14  of  50\n",
      "Training loss:  155.12\n",
      "Validation loss:  174.35\n",
      "EarlyStopping counter: 3 out of 5\n",
      "Epoch: 15  of  50\n",
      "Training loss:  152.81\n",
      "Validation loss:  163.86\n",
      "EarlyStopping counter: 4 out of 5\n",
      "Epoch: 16  of  50\n",
      "Training loss:  147.08\n",
      "Validation loss:  162.66\n",
      "EarlyStopping counter: 5 out of 5\n",
      "Early stopping\n",
      "Finished Training\n"
     ]
    },
    {
     "data": {
      "image/png": "[encoded data removed]",
      "text/plain": [
       "<Figure size 432x288 with 1 Axes>"
      ]
     },
     "metadata": {
      "needs_background": "light"
     },
     "output_type": "display_data"
    }
   ],
   "source": [
    "training_loss, evaluation_loss = training(epochs, nsp_hhblits[0], nsp_hhblits[1], nsp_hhblits[2], train_hhblits)\n",
    "\n",
    "plot_loss(training_loss, evaluation_loss, \"NSP HHblits training and validation loss\")\n",
    "\n",
    "#training_loss, evaluation_loss = training(epochs, nsp_mmseqs[0], nsp_mmseqs[1], nsp_mmseqs[2], train_mmseqs)\n",
    "#plot_loss(training_loss, evaluation_loss, \"NSP MMseqs training and validation loss\")"
   ]
  },
  {
   "cell_type": "markdown",
   "id": "later-exclusive",
   "metadata": {
    "papermill": {
     "duration": 0.077621,
     "end_time": "2021-03-02T02:31:20.341335",
     "exception": false,
     "start_time": "2021-03-02T02:31:20.263714",
     "status": "completed"
    },
    "tags": []
   },
   "source": [
    "## 5. Evaluation"
   ]
  },
  {
   "cell_type": "markdown",
   "id": "original-vulnerability",
   "metadata": {
    "papermill": {
     "duration": 0.073617,
     "end_time": "2021-03-02T02:31:20.488579",
     "exception": false,
     "start_time": "2021-03-02T02:31:20.414962",
     "status": "completed"
    },
    "tags": []
   },
   "source": [
    "Evaluation functions are created to evaluate the models performance."
   ]
  },
  {
   "cell_type": "code",
   "execution_count": 17,
   "id": "banned-enforcement",
   "metadata": {
    "execution": {
     "iopub.execute_input": "2021-03-02T02:31:20.646658Z",
     "iopub.status.busy": "2021-03-02T02:31:20.646246Z",
     "iopub.status.idle": "2021-03-02T02:31:20.652259Z",
     "shell.execute_reply": "2021-03-02T02:31:20.652565Z"
    },
    "papermill": {
     "duration": 0.090749,
     "end_time": "2021-03-02T02:31:20.652656",
     "exception": false,
     "start_time": "2021-03-02T02:31:20.561907",
     "status": "completed"
    },
    "tags": []
   },
   "outputs": [],
   "source": [
    "def fpr(pred, labels):\n",
    "    \"\"\" False positive rate\n",
    "    Args:\n",
    "        inputs (1D Tensor): vector with predicted binary numeric values\n",
    "        labels (1D Tensor): vector with correct binary numeric values\n",
    "    \"\"\"\n",
    "    fp = sum((pred == 1) & (labels == 0))\n",
    "    tn = sum((pred == 0) & (labels == 0))\n",
    "    \n",
    "    return (fp/(fp+tn)).item()\n",
    "\n",
    "def fnr(pred, labels):\n",
    "    \"\"\" False negative rate\n",
    "    Args:\n",
    "        inputs (1D Tensor): vector with predicted binary numeric values\n",
    "        labels (1D Tensor): vector with correct binary numeric values\n",
    "    \"\"\"\n",
    "    fn = sum((pred == 0) & (labels == 1))\n",
    "    tp = sum((pred == 1) & (labels == 1))\n",
    "    \n",
    "    return (fn/(fn+tp)).item()\n",
    "\n",
    "def mcc(pred, labels):\n",
    "    \"\"\" Mathews correlation coefficient\n",
    "    Args:\n",
    "        inputs (1D Tensor): vector with predicted binary numeric values\n",
    "        labels (1D Tensor): vector with correct binary numeric values\n",
    "    \"\"\"\n",
    "    fp = sum((pred == 1) & (labels == 0))\n",
    "    tp = sum((pred == 1) & (labels == 1))\n",
    "    fn = sum((pred == 0) & (labels == 1))\n",
    "    tn = sum((pred == 0) & (labels == 0))\n",
    "    \n",
    "    return ((tp*tn-fp*fn)/torch.sqrt(((tp+fp)*(fn+tn)*(tp+fn)*(fp+tn)).float())).item()\n",
    "\n",
    "def pcc(pred, labels):\n",
    "    \"\"\" Pearson correlation coefficient\n",
    "    Args:\n",
    "        inputs (1D Tensor): vector with predicted numeric values\n",
    "        labels (1D Tensor): vector with correct numeric values\n",
    "    \"\"\"\n",
    "    x = pred - torch.mean(pred)\n",
    "    y = labels - torch.mean(labels)\n",
    "    \n",
    "    return (torch.sum(x * y) / (torch.sqrt(torch.sum(x ** 2)) * torch.sqrt(torch.sum(y ** 2)))).item()\n",
    "\n",
    "def mae(pred, labels):\n",
    "    \"\"\" Mean absolute error\n",
    "    Args:\n",
    "        inputs (1D Tensor): vector with predicted numeric values\n",
    "        labels (1D Tensor): vector with correct numeric values\n",
    "    \"\"\"\n",
    "    \n",
    "    return (sum(torch.min(torch.cat((abs(labels-pred).unsqueeze(1), abs(360-labels+pred).unsqueeze(1)), dim=1), dim=1)[0])/len(labels)).item()\n",
    "    \n",
    "def accuracy(pred, labels):\n",
    "    \"\"\" Accuracy coefficient\n",
    "    Args:\n",
    "        inputs (1D Tensor): vector with predicted integer values\n",
    "        labels (1D Tensor): vector with correct integer values\n",
    "    \"\"\"\n",
    "    \n",
    "    return (sum((pred == labels)) / len(labels)).item()"
   ]
  },
  {
   "cell_type": "markdown",
   "id": "social-bundle",
   "metadata": {
    "papermill": {
     "duration": 0.075829,
     "end_time": "2021-03-02T02:31:20.806455",
     "exception": false,
     "start_time": "2021-03-02T02:31:20.730626",
     "status": "completed"
    },
    "tags": []
   },
   "source": [
    "Seperate datasets are used to evaluate the model. Here is each class evaluated and the prediction benchmarks for the trained model are found."
   ]
  },
  {
   "cell_type": "code",
   "execution_count": 18,
   "id": "rapid-catering",
   "metadata": {
    "execution": {
     "iopub.execute_input": "2021-03-02T02:31:20.962958Z",
     "iopub.status.busy": "2021-03-02T02:31:20.961917Z",
     "iopub.status.idle": "2021-03-02T02:31:20.964391Z",
     "shell.execute_reply": "2021-03-02T02:31:20.964701Z"
    },
    "papermill": {
     "duration": 0.08405,
     "end_time": "2021-03-02T02:31:20.964801",
     "exception": false,
     "start_time": "2021-03-02T02:31:20.880751",
     "status": "completed"
    },
    "tags": []
   },
   "outputs": [],
   "source": [
    "def evaluation(model, dataset):\n",
    "    # store evaluation results\n",
    "    results = {\n",
    "        \"SS8\": 0,\n",
    "        \"SS3\": 0,\n",
    "        \"disorder_mcc\": 0,\n",
    "        \"disorder_fnr\": 0,\n",
    "        \"RSA\": 0,\n",
    "        \"ASA\": 0,\n",
    "        \"psi\": 0,\n",
    "        \"phi\": 0,\n",
    "    }\n",
    "    \n",
    "    rsa_labels = torch.tensor([]).to(device)\n",
    "    rsa_pred = torch.tensor([]).to(device)\n",
    "    \n",
    "    # iterate through the evaluation dataset\n",
    "    with torch.no_grad():\n",
    "        for data in dataset:\n",
    "            # move data tensors to GPU if possible\n",
    "            inputs, labels, lengths = data\n",
    "            inputs, labels = inputs.to(device), labels.to(device)\n",
    "            \n",
    "            predictions = model(inputs, lengths) # predict values\n",
    "\n",
    "            # Use only sequences from seq mask and remove extrapolated zeroes\n",
    "            #predictions = [pred[(labels[:, :, 0] == 1) & (labels[:, :, 1] == 1)] for pred in predictions]\n",
    "            #labels = labels[(labels[:, :, 0] == 1) & (labels[:, :, 1] == 1)]\n",
    "\n",
    "            # filters\n",
    "            zero_mask = (labels[:, :, 0] == 1)\n",
    "            disorder_mask = (labels[:, :, 1] == 1)\n",
    "\n",
    "            # calculate the SS8 accuracy\n",
    "            #SS8_labels = torch.argmax(labels[:, 7:15], dim=1).flatten()\n",
    "            #SS8_pred = torch.argmax(predictions[0], dim=1).flatten()\n",
    "\n",
    "            #results[\"SS8\"] += accuracy(SS8_pred, SS8_labels)\n",
    "\n",
    "            # calculate the SS3 accuracy\n",
    "            #SS3_mask = torch.tensor([0,0,0,1,1,2,2,2], device=device)\n",
    "\n",
    "            #SS3_labels = torch.max(labels[:, 7:15] * SS3_mask, dim=1)[0].long().flatten()\n",
    "            #SS3_pred = torch.argmax(predictions[1], dim=1).flatten()\n",
    "\n",
    "            #results[\"SS3\"] += accuracy(SS3_pred, SS3_labels)\n",
    "\n",
    "            # calculate the FPR of disorder\n",
    "            #disorder_labels = labels[:, 1].flatten()\n",
    "            #disorder_pred = torch.argmax(predictions[2], dim=1).flatten()\n",
    "\n",
    "            #results[\"disorder_mcc\"] += mcc(disorder_pred, disorder_labels)\n",
    "            #results[\"disorder_fnr\"] += fnr(disorder_pred, disorder_labels)\n",
    "\n",
    "            # calculate the RSA\n",
    "            #rsa_labels = labels[:, 6].flatten()\n",
    "            #rsa_pred = predictions[0].flatten()\n",
    "            \n",
    "            rsa_pred = torch.cat([rsa_pred, predictions[0][zero_mask & disorder_mask].flatten()])\n",
    "            rsa_labels = torch.cat([rsa_labels, labels[:, :, 5][zero_mask & disorder_mask].flatten()])\n",
    "\n",
    "            #results['RSA'] += pcc(rsa_pred, rsa_labels)\n",
    "\n",
    "            # calculate the ASA\n",
    "            #asa_labels = labels[:, 4].flatten()\n",
    "            #asa_max = labels[:, 17].flatten()\n",
    "\n",
    "            #results['ASA'] += pcc(asa_max * rsa_pred, asa_labels)\n",
    "\n",
    "            # calculate the psi\n",
    "            #phi_labels = labels[:, 15].flatten()\n",
    "            #phi_pred = arctan_dihedral(predictions[4][:, 0], predictions[4][:, 1]).flatten()\n",
    "\n",
    "            #results['phi'] += mae(phi_pred, phi_labels)\n",
    "\n",
    "            # calculate the psi\n",
    "            #psi_labels = labels[:, 16].flatten()\n",
    "            #psi_pred = arctan_dihedral(predictions[5][:, 0], predictions[5][:, 1]).flatten()\n",
    "\n",
    "            #results['psi'] += mae(psi_pred, psi_labels)\n",
    "\n",
    "        # average prediction results \n",
    "        #for method, _ in results.items():\n",
    "            #results[method] /= len(dataset)\n",
    "            \n",
    "    results['RSA'] = pcc(rsa_pred, rsa_labels)\n",
    "\n",
    "    print(\"RSA (PCC): {}\".format(round(results[\"RSA\"], 3)))\n",
    "    print(\"ASA (PCC): {}\".format(round(results[\"ASA\"], 2)))\n",
    "    print(\"SS8 [Q8]: {}\".format(round(results[\"SS8\"], 2)))\n",
    "    print(\"SS3 [Q3]: {}\".format(round(results[\"SS3\"], 2)))\n",
    "    print(\"Disorder (MCC): {}\".format(round(results[\"disorder_mcc\"], 2)))\n",
    "    print(\"Disorder (FNR): {}\".format(round(results[\"disorder_fnr\"], 3)))\n",
    "    print(\"Phi (MAE): {}\".format(round(results[\"phi\"], 2)))\n",
    "    print(\"Psi (MAE): {}\".format(round(results[\"psi\"], 2)))"
   ]
  },
  {
   "cell_type": "markdown",
   "id": "resident-parliament",
   "metadata": {
    "papermill": {
     "duration": 0.076805,
     "end_time": "2021-03-02T02:31:21.121453",
     "exception": false,
     "start_time": "2021-03-02T02:31:21.044648",
     "status": "completed"
    },
    "tags": []
   },
   "source": [
    "The models are evaluated"
   ]
  },
  {
   "cell_type": "code",
   "execution_count": 19,
   "id": "powerful-radio",
   "metadata": {
    "execution": {
     "iopub.execute_input": "2021-03-02T02:31:21.277398Z",
     "iopub.status.busy": "2021-03-02T02:31:21.277005Z",
     "iopub.status.idle": "2021-03-02T02:31:21.495172Z",
     "shell.execute_reply": "2021-03-02T02:31:21.495486Z"
    },
    "papermill": {
     "duration": 0.298083,
     "end_time": "2021-03-02T02:31:21.495590",
     "exception": false,
     "start_time": "2021-03-02T02:31:21.197507",
     "status": "completed"
    },
    "tags": []
   },
   "outputs": [
    {
     "name": "stdout",
     "output_type": "stream",
     "text": [
      "Evaluation HHblits...\n",
      "\n",
      "CASP12\n",
      "RSA (PCC): 0.569\n",
      "ASA (PCC): 0\n",
      "SS8 [Q8]: 0\n",
      "SS3 [Q3]: 0\n",
      "Disorder (MCC): 0\n",
      "Disorder (FNR): 0\n",
      "Phi (MAE): 0\n",
      "Psi (MAE): 0\n"
     ]
    }
   ],
   "source": [
    "print(\"Evaluation HHblits...\")\n",
    "\n",
    "#print(\"\\nCB513\")\n",
    "#evaluation(nsp_hhblits[0], CB513_hhblits)\n",
    "#print(\"\\nTS115\")\n",
    "#evaluation(nsp_hhblits[0], TS115_hhblits)\n",
    "print(\"\\nCASP12\")\n",
    "evaluation(nsp_hhblits[0], CASP12_hhblits)\n",
    "\n",
    "#print(\"\\nEvaluation MMseqs...\")\n",
    "\n",
    "#print(\"\\nCB513\")\n",
    "#evaluation(nsp_mmseqs[0], CB513_hhblits)\n",
    "#print(\"\\nTS115\")\n",
    "#evaluation(nsp_mmseqs[0], TS115_hhblits)\n",
    "#print(\"\\nCASP12\")\n",
    "#evaluation(nsp_mmseqs[0], CASP12_hhblits)"
   ]
  }
 ],
 "metadata": {
  "kernelspec": {
   "display_name": "Python 3",
   "language": "python",
   "name": "python3"
  },
  "language_info": {
   "codemirror_mode": {
    "name": "ipython",
    "version": 3
   },
   "file_extension": ".py",
   "mimetype": "text/x-python",
   "name": "python",
   "nbconvert_exporter": "python",
   "pygments_lexer": "ipython3",
   "version": "3.6.10"
  },
  "papermill": {
   "default_parameters": {},
   "duration": 9467.128174,
   "end_time": "2021-03-02T02:31:24.531731",
   "environment_variables": {},
   "exception": null,
   "input_path": "nsp2_rsa.ipynb",
   "output_path": "nsp2_rsa.ipynb",
   "parameters": {},
   "start_time": "2021-03-01T23:53:37.403557",
   "version": "2.3.2"
  }
 },
 "nbformat": 4,
 "nbformat_minor": 5
}
