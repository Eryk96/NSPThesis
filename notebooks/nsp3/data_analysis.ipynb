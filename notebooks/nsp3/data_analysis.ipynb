{
 "cells": [
  {
   "cell_type": "markdown",
   "id": "precious-quality",
   "metadata": {},
   "source": [
    "# Data analysis of the HHBLITS and MMSeqs datasets"
   ]
  },
  {
   "cell_type": "markdown",
   "id": "organic-mount",
   "metadata": {},
   "source": [
    "First of all, the sequence lengths of the datasets are inspected, since the ESM1b embeddings works with residue sequences that are below 1024 and 500."
   ]
  },
  {
   "cell_type": "markdown",
   "id": "significant-albert",
   "metadata": {},
   "source": [
    "**Loading of libraries**"
   ]
  },
  {
   "cell_type": "code",
   "execution_count": 1,
   "id": "private-finding",
   "metadata": {},
   "outputs": [],
   "source": [
    "import numpy as np\n",
    "import matplotlib.pyplot as plt"
   ]
  },
  {
   "cell_type": "markdown",
   "id": "local-honor",
   "metadata": {},
   "source": [
    "## Loading dataset(s)"
   ]
  },
  {
   "cell_type": "code",
   "execution_count": 5,
   "id": "wound-disco",
   "metadata": {},
   "outputs": [],
   "source": [
    "hhblits = np.load('/home/eryk/development/NSPThesis/data/nsp2/training_data/Train_HHblits.npz')['data']"
   ]
  },
  {
   "cell_type": "markdown",
   "id": "similar-entrepreneur",
   "metadata": {},
   "source": [
    "## Sequence length distribution"
   ]
  },
  {
   "cell_type": "markdown",
   "id": "southern-colleague",
   "metadata": {},
   "source": [
    "Count the sequences and then plot the distribution as a histogram"
   ]
  },
  {
   "cell_type": "code",
   "execution_count": 3,
   "id": "about-liabilities",
   "metadata": {},
   "outputs": [],
   "source": [
    "def count_sequences(data):\n",
    "    \"\"\"Counts the sequences in given data\"\"\"\n",
    "    hist = {}\n",
    "    for seq in data:\n",
    "        idx = sum(seq)\n",
    "        hist[idx] = hist.get(idx, 0) + 1\n",
    "    return hist"
   ]
  },
  {
   "cell_type": "code",
   "execution_count": 14,
   "id": "simplified-elephant",
   "metadata": {},
   "outputs": [
    {
     "data": {
      "image/png": "[encoded data removed]",
      "text/plain": [
       "<Figure size 360x360 with 1 Axes>"
      ]
     },
     "metadata": {
      "needs_background": "light"
     },
     "output_type": "display_data"
    }
   ],
   "source": [
    "# Plot hhblits\n",
    "plt.style.use('science')\n",
    "\n",
    "hhblits_count = count_sequences(hhblits[:, :, 50])\n",
    "\n",
    "plt.rcParams[\"figure.figsize\"]=(5, 5)\n",
    "n, bins, patches = plt.hist(x=hhblits_count, bins='auto')\n",
    "plt.xlabel('Sequence length')\n",
    "plt.ylabel('Count')\n",
    "plt.title('Train sequence length distribution')\n",
    "plt.axvline(x=1024, label='ESM1b input', c='y')\n",
    "plt.axvline(x=500, label='Uniform', c='r')\n",
    "plt.legend(loc='upper right')\n",
    "plt.show()"
   ]
  },
  {
   "cell_type": "markdown",
   "id": "simple-cursor",
   "metadata": {},
   "source": [
    "**How many sequences are removed if lengths are reduced to only keep below 1024 and 600?**"
   ]
  },
  {
   "cell_type": "code",
   "execution_count": 15,
   "id": "practical-private",
   "metadata": {},
   "outputs": [
    {
     "name": "stdout",
     "output_type": "stream",
     "text": [
      "total: 10848\n",
      "<1024: 34\n",
      "<500: 782\n"
     ]
    }
   ],
   "source": [
    "total = sum(hhblits_count.values())\n",
    "\n",
    "# lamda filter that filters out the keys\n",
    "filter_total = lambda x, y: dict([ (i,x[i]) for i in x if i < y ])\n",
    "\n",
    "# count if the sequences are reduced\n",
    "reduce_1024 = sum(filter_total(hhblits_count, 1024).values())\n",
    "reduce_500 = sum(filter_total(hhblits_count, 500).values())\n",
    "\n",
    "print(\"total:\", total)\n",
    "print(\"<1024:\", total-reduce_1024)\n",
    "print(\"<500:\", total-reduce_500)"
   ]
  },
  {
   "cell_type": "code",
   "execution_count": 13,
   "id": "beautiful-pledge",
   "metadata": {},
   "outputs": [],
   "source": [
    "hhblits = hhblits[np.sum(hhblits[:, :, 50], axis=1) < 500]"
   ]
  },
  {
   "cell_type": "code",
   "execution_count": 14,
   "id": "endangered-gibraltar",
   "metadata": {},
   "outputs": [
    {
     "data": {
      "text/plain": [
       "(10066, 1632, 68)"
      ]
     },
     "execution_count": 14,
     "metadata": {},
     "output_type": "execute_result"
    }
   ],
   "source": [
    "hhblits.shape"
   ]
  },
  {
   "cell_type": "code",
   "execution_count": 15,
   "id": "impaired-execution",
   "metadata": {},
   "outputs": [],
   "source": [
    "np.savez_compressed(\"/home/eryk/development/NSPThesis/data/nsp2/training_data/Train_HHblits_500.npz\", data=hhblits[:, :500, :])\n",
    "np.savez_compressed(\"/home/eryk/development/NSPThesis/data/nsp2/training_data/Train_HHblits_500_small.npz\", data=hhblits[:1000, :500, :])"
   ]
  },
  {
   "cell_type": "markdown",
   "id": "flush-notion",
   "metadata": {},
   "source": [
    "## Split embedding dataset"
   ]
  },
  {
   "cell_type": "code",
   "execution_count": 1,
   "id": "approved-evolution",
   "metadata": {},
   "outputs": [],
   "source": [
    "import h5py\n",
    "import pdb\n",
    "import numpy as np"
   ]
  },
  {
   "cell_type": "code",
   "execution_count": 2,
   "id": "every-developer",
   "metadata": {},
   "outputs": [],
   "source": [
    "f = h5py.File(\"/home/eryk/development/NSPThesis/data/nsp3/training_data/Train_HHBlits_ESM1b.hdf5\", \"r\")[\"dataset\"]\n",
    "f_sequences, f_residues, f_classes = f.shape"
   ]
  },
  {
   "cell_type": "markdown",
   "id": "cosmetic-circumstances",
   "metadata": {},
   "source": [
    "**Lets create a dataset where we reduce to only include below 500 residues**"
   ]
  },
  {
   "cell_type": "code",
   "execution_count": 10,
   "id": "played-domain",
   "metadata": {},
   "outputs": [],
   "source": [
    "batch = 250\n",
    "max_residues = 500\n",
    "\n",
    "with h5py.File(\"/home/eryk/development/NSPThesis/data/nsp3/training_data/Train_HHBlits_ESM1b_500.hdf5\", \"w\") as f2:\n",
    "    dataset = f2.create_dataset(\"dataset\", (1, max_residues, f_classes), maxshape=(None, max_residues, f_classes), dtype='float64', compression=\"gzip\")\n",
    "        \n",
    "    n = 0\n",
    "    for sequences in range(0, f_sequences, batch):\n",
    "        \n",
    "        # retrieve and filter sequences\n",
    "        data = f[sequences:sequences+batch]\n",
    "        data = data[np.sum(data[:, :, 50], axis=1) < max_residues]\n",
    "        \n",
    "        # expand dataset dimension\n",
    "        data_sequences = data.shape[0]\n",
    "        dataset.resize((n+data_sequences, max_residues, f_classes))\n",
    "        \n",
    "        # save the filtered data\n",
    "        dataset[n:n+data_sequences] = data[:data_sequences, :max_residues]\n",
    "        \n",
    "        n += data_sequences"
   ]
  },
  {
   "cell_type": "markdown",
   "id": "convenient-isaac",
   "metadata": {},
   "source": [
    "**Create small subsets**"
   ]
  },
  {
   "cell_type": "code",
   "execution_count": 12,
   "id": "handmade-mixture",
   "metadata": {},
   "outputs": [],
   "source": [
    "f = h5py.File(\"/home/eryk/development/NSPThesis/data/nsp3/training_data/Train_HHBlits_ESM1b.hdf5\", \"r\")[\"dataset\"]\n",
    "\n",
    "with h5py.File(\"/home/eryk/development/NSPThesis/data/nsp3/training_data/Train_HHBlits_ESM1b_S.hdf5\", \"w\") as f2:\n",
    "    dataset = f2.create_dataset(\"dataset\", (200, f.shape[1], f.shape[2]), dtype='float64', compression=\"gzip\")\n",
    "    dataset[:200] = f[:200]\n",
    "\n",
    "f = h5py.File(\"/home/eryk/development/NSPThesis/data/nsp3/training_data/Train_HHBlits_ESM1b_500.hdf5\", \"r\")[\"dataset\"]\n",
    "\n",
    "with h5py.File(\"/home/eryk/development/NSPThesis/data/nsp3/training_data/Train_HHBlits_ESM1b_500_S.hdf5\", \"w\") as f2:\n",
    "    dataset = f2.create_dataset(\"dataset\", (200, f.shape[1], f.shape[2]), dtype='float64', compression=\"gzip\")\n",
    "    dataset[:200] = f[:200]\n",
    "    "
   ]
  },
  {
   "cell_type": "code",
   "execution_count": null,
   "id": "cellular-horror",
   "metadata": {},
   "outputs": [],
   "source": []
  }
 ],
 "metadata": {
  "kernelspec": {
   "display_name": "Python 3",
   "language": "python",
   "name": "python3"
  },
  "language_info": {
   "codemirror_mode": {
    "name": "ipython",
    "version": 3
   },
   "file_extension": ".py",
   "mimetype": "text/x-python",
   "name": "python",
   "nbconvert_exporter": "python",
   "pygments_lexer": "ipython3",
   "version": "3.8.8"
  }
 },
 "nbformat": 4,
 "nbformat_minor": 5
}
