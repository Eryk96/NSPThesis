{
 "cells": [
  {
   "cell_type": "markdown",
   "id": "successful-spray",
   "metadata": {},
   "source": [
    "# Biolib hackaton challenge partition"
   ]
  },
  {
   "cell_type": "code",
   "execution_count": 1,
   "id": "advisory-antigua",
   "metadata": {},
   "outputs": [],
   "source": [
    "import h5py\n",
    "import numpy as np"
   ]
  },
  {
   "cell_type": "code",
   "execution_count": 2,
   "id": "virtual-commitment",
   "metadata": {},
   "outputs": [],
   "source": [
    "data = h5py.File(\"../../data/nsp3/training_data/Train_HHblits_ESM1b.hdf5\", 'r')"
   ]
  },
  {
   "cell_type": "code",
   "execution_count": 2,
   "id": "deadly-server",
   "metadata": {},
   "outputs": [],
   "source": [
    "idx_encoding = np.arange(0, 20)\n",
    "idx_embed = np.arange(68, 1348)\n",
    "idx_mask = np.arange(50, 51)\n",
    "idx_ss = np.arange(57, 65)\n",
    "\n",
    "classes = np.concatenate([idx_encoding, idx_embed, idx_mask, idx_ss])"
   ]
  },
  {
   "cell_type": "code",
   "execution_count": 4,
   "id": "coupled-disease",
   "metadata": {},
   "outputs": [],
   "source": [
    "p = sorted(np.random.permutation(len(data['dataset']))[:1000])"
   ]
  },
  {
   "cell_type": "code",
   "execution_count": 5,
   "id": "tested-relation",
   "metadata": {},
   "outputs": [],
   "source": [
    "with h5py.File('/home/eryk/development/NSPThesis/data/chunked/Train_ESM1b.hdf5', 'w') as f:\n",
    "    d = f.create_dataset('dataset', (1000, 1632, 1309), chunks=True, compression=\"gzip\", compression_opts=9)\n",
    "\n",
    "    step=100\n",
    "    for i in range(0, 1000, step):\n",
    "        d[i:i+step] = data['dataset'][p[i:i+step]][:, :, classes]"
   ]
  },
  {
   "cell_type": "code",
   "execution_count": 3,
   "id": "enhanced-marijuana",
   "metadata": {},
   "outputs": [],
   "source": [
    "data = h5py.File(\"../../data/nsp3/training_data/CASP12_HHblits_ESM1b.hdf5\", 'r')"
   ]
  },
  {
   "cell_type": "code",
   "execution_count": 7,
   "id": "adjustable-trail",
   "metadata": {},
   "outputs": [],
   "source": [
    "with h5py.File('/home/eryk/development/NSPThesis/data/chunked/CASP12_ESM1b.hdf5', 'w') as f:\n",
    "    d = f.create_dataset('dataset', (21, 1494, 1309), chunks=True, compression=\"gzip\", compression_opts=9)\n",
    "\n",
    "    d[:] = data['dataset'][:][:, :, classes]"
   ]
  },
  {
   "cell_type": "code",
   "execution_count": null,
   "id": "mediterranean-vermont",
   "metadata": {},
   "outputs": [],
   "source": []
  }
 ],
 "metadata": {
  "kernelspec": {
   "display_name": "nsp3",
   "language": "python",
   "name": "nsp3"
  },
  "language_info": {
   "codemirror_mode": {
    "name": "ipython",
    "version": 3
   },
   "file_extension": ".py",
   "mimetype": "text/x-python",
   "name": "python",
   "nbconvert_exporter": "python",
   "pygments_lexer": "ipython3",
   "version": "3.8.8"
  }
 },
 "nbformat": 4,
 "nbformat_minor": 5
}
